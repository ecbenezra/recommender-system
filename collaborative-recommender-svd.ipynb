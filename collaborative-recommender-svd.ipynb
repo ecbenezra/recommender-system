{
 "cells": [
  {
   "cell_type": "markdown",
   "metadata": {},
   "source": [
    "# Collaborative Recommender\n",
    "\n",
    "This recommender uses previous user ratings to predict how the user would feel about a movie they haven't yet watched. The final product is a list of unwatched movies returned, sorted by the user's estimated rating of the movie."
   ]
  },
  {
   "cell_type": "code",
   "execution_count": 313,
   "metadata": {},
   "outputs": [],
   "source": [
    "import pandas as pd\n",
    "import numpy as np\n",
    "import matplotlib.pyplot as plt\n",
    "import seaborn as sns\n",
    "from scipy import stats\n",
    "\n",
    "import random\n",
    "\n",
    "from surprise import Reader, Dataset, SVD, evaluate, accuracy\n",
    "from surprise.model_selection import GridSearchCV, KFold, train_test_split\n",
    "from surprise.model_selection.validation import cross_validate\n",
    "from surprise.prediction_algorithms.matrix_factorization import SVDpp\n",
    "\n",
    "import time\n",
    "\n",
    "import warnings; warnings.simplefilter('ignore')\n",
    "\n",
    "%matplotlib inline"
   ]
  },
  {
   "cell_type": "code",
   "execution_count": 100,
   "metadata": {},
   "outputs": [],
   "source": [
    "ratings = pd.read_csv('/Users/user/movielens-20m-dataset/rating.csv')"
   ]
  },
  {
   "cell_type": "code",
   "execution_count": 3,
   "metadata": {},
   "outputs": [
    {
     "data": {
      "text/plain": [
       "(20000263, 4)"
      ]
     },
     "execution_count": 3,
     "metadata": {},
     "output_type": "execute_result"
    }
   ],
   "source": [
    "ratings.shape"
   ]
  },
  {
   "cell_type": "code",
   "execution_count": 4,
   "metadata": {},
   "outputs": [
    {
     "data": {
      "text/html": [
       "<div>\n",
       "<style scoped>\n",
       "    .dataframe tbody tr th:only-of-type {\n",
       "        vertical-align: middle;\n",
       "    }\n",
       "\n",
       "    .dataframe tbody tr th {\n",
       "        vertical-align: top;\n",
       "    }\n",
       "\n",
       "    .dataframe thead th {\n",
       "        text-align: right;\n",
       "    }\n",
       "</style>\n",
       "<table border=\"1\" class=\"dataframe\">\n",
       "  <thead>\n",
       "    <tr style=\"text-align: right;\">\n",
       "      <th></th>\n",
       "      <th>userId</th>\n",
       "      <th>movieId</th>\n",
       "      <th>rating</th>\n",
       "      <th>timestamp</th>\n",
       "    </tr>\n",
       "  </thead>\n",
       "  <tbody>\n",
       "    <tr>\n",
       "      <th>0</th>\n",
       "      <td>1</td>\n",
       "      <td>2</td>\n",
       "      <td>3.5</td>\n",
       "      <td>2005-04-02 23:53:47</td>\n",
       "    </tr>\n",
       "    <tr>\n",
       "      <th>1</th>\n",
       "      <td>1</td>\n",
       "      <td>29</td>\n",
       "      <td>3.5</td>\n",
       "      <td>2005-04-02 23:31:16</td>\n",
       "    </tr>\n",
       "    <tr>\n",
       "      <th>2</th>\n",
       "      <td>1</td>\n",
       "      <td>32</td>\n",
       "      <td>3.5</td>\n",
       "      <td>2005-04-02 23:33:39</td>\n",
       "    </tr>\n",
       "    <tr>\n",
       "      <th>3</th>\n",
       "      <td>1</td>\n",
       "      <td>47</td>\n",
       "      <td>3.5</td>\n",
       "      <td>2005-04-02 23:32:07</td>\n",
       "    </tr>\n",
       "    <tr>\n",
       "      <th>4</th>\n",
       "      <td>1</td>\n",
       "      <td>50</td>\n",
       "      <td>3.5</td>\n",
       "      <td>2005-04-02 23:29:40</td>\n",
       "    </tr>\n",
       "  </tbody>\n",
       "</table>\n",
       "</div>"
      ],
      "text/plain": [
       "   userId  movieId  rating            timestamp\n",
       "0       1        2     3.5  2005-04-02 23:53:47\n",
       "1       1       29     3.5  2005-04-02 23:31:16\n",
       "2       1       32     3.5  2005-04-02 23:33:39\n",
       "3       1       47     3.5  2005-04-02 23:32:07\n",
       "4       1       50     3.5  2005-04-02 23:29:40"
      ]
     },
     "execution_count": 4,
     "metadata": {},
     "output_type": "execute_result"
    }
   ],
   "source": [
    "ratings.head()"
   ]
  },
  {
   "cell_type": "code",
   "execution_count": 5,
   "metadata": {},
   "outputs": [],
   "source": [
    "movies = pd.read_csv('/Users/user/movielens-20m-dataset/movie.csv')"
   ]
  },
  {
   "cell_type": "code",
   "execution_count": 6,
   "metadata": {},
   "outputs": [
    {
     "data": {
      "text/html": [
       "<div>\n",
       "<style scoped>\n",
       "    .dataframe tbody tr th:only-of-type {\n",
       "        vertical-align: middle;\n",
       "    }\n",
       "\n",
       "    .dataframe tbody tr th {\n",
       "        vertical-align: top;\n",
       "    }\n",
       "\n",
       "    .dataframe thead th {\n",
       "        text-align: right;\n",
       "    }\n",
       "</style>\n",
       "<table border=\"1\" class=\"dataframe\">\n",
       "  <thead>\n",
       "    <tr style=\"text-align: right;\">\n",
       "      <th></th>\n",
       "      <th>movieId</th>\n",
       "      <th>title</th>\n",
       "      <th>genres</th>\n",
       "    </tr>\n",
       "  </thead>\n",
       "  <tbody>\n",
       "    <tr>\n",
       "      <th>0</th>\n",
       "      <td>1</td>\n",
       "      <td>Toy Story (1995)</td>\n",
       "      <td>Adventure|Animation|Children|Comedy|Fantasy</td>\n",
       "    </tr>\n",
       "    <tr>\n",
       "      <th>1</th>\n",
       "      <td>2</td>\n",
       "      <td>Jumanji (1995)</td>\n",
       "      <td>Adventure|Children|Fantasy</td>\n",
       "    </tr>\n",
       "    <tr>\n",
       "      <th>2</th>\n",
       "      <td>3</td>\n",
       "      <td>Grumpier Old Men (1995)</td>\n",
       "      <td>Comedy|Romance</td>\n",
       "    </tr>\n",
       "    <tr>\n",
       "      <th>3</th>\n",
       "      <td>4</td>\n",
       "      <td>Waiting to Exhale (1995)</td>\n",
       "      <td>Comedy|Drama|Romance</td>\n",
       "    </tr>\n",
       "    <tr>\n",
       "      <th>4</th>\n",
       "      <td>5</td>\n",
       "      <td>Father of the Bride Part II (1995)</td>\n",
       "      <td>Comedy</td>\n",
       "    </tr>\n",
       "  </tbody>\n",
       "</table>\n",
       "</div>"
      ],
      "text/plain": [
       "   movieId                               title  \\\n",
       "0        1                    Toy Story (1995)   \n",
       "1        2                      Jumanji (1995)   \n",
       "2        3             Grumpier Old Men (1995)   \n",
       "3        4            Waiting to Exhale (1995)   \n",
       "4        5  Father of the Bride Part II (1995)   \n",
       "\n",
       "                                        genres  \n",
       "0  Adventure|Animation|Children|Comedy|Fantasy  \n",
       "1                   Adventure|Children|Fantasy  \n",
       "2                               Comedy|Romance  \n",
       "3                         Comedy|Drama|Romance  \n",
       "4                                       Comedy  "
      ]
     },
     "execution_count": 6,
     "metadata": {},
     "output_type": "execute_result"
    }
   ],
   "source": [
    "movies.head()"
   ]
  },
  {
   "cell_type": "code",
   "execution_count": 7,
   "metadata": {},
   "outputs": [
    {
     "data": {
      "text/plain": [
       "(27278, 3)"
      ]
     },
     "execution_count": 7,
     "metadata": {},
     "output_type": "execute_result"
    }
   ],
   "source": [
    "movies.shape"
   ]
  },
  {
   "cell_type": "code",
   "execution_count": 8,
   "metadata": {},
   "outputs": [
    {
     "data": {
      "text/plain": [
       "(26744, 2)"
      ]
     },
     "execution_count": 8,
     "metadata": {},
     "output_type": "execute_result"
    }
   ],
   "source": [
    "rated_movs = ratings.groupby('movieId').sum()\n",
    "rated_movs.shape"
   ]
  },
  {
   "cell_type": "code",
   "execution_count": 9,
   "metadata": {},
   "outputs": [
    {
     "data": {
      "text/plain": [
       "(138493, 2)"
      ]
     },
     "execution_count": 9,
     "metadata": {},
     "output_type": "execute_result"
    }
   ],
   "source": [
    "users = ratings.groupby('userId').sum()\n",
    "users.shape"
   ]
  },
  {
   "cell_type": "markdown",
   "metadata": {},
   "source": [
    "We're looking at 20 million ratings on 26,744 movies, made by 138,493 users."
   ]
  },
  {
   "cell_type": "code",
   "execution_count": 227,
   "metadata": {},
   "outputs": [
    {
     "data": {
      "text/plain": [
       "Text(0.5, 1.0, 'Rating Distribution (all users)')"
      ]
     },
     "execution_count": 227,
     "metadata": {},
     "output_type": "execute_result"
    },
    {
     "data": {
      "image/png": "[encoded data removed]",
      "text/plain": [
       "<Figure size 432x288 with 1 Axes>"
      ]
     },
     "metadata": {
      "needs_background": "light"
     },
     "output_type": "display_data"
    }
   ],
   "source": [
    "sns.distplot(ratings['rating'])\n",
    "plt.title('Rating Distribution (all users)')"
   ]
  },
  {
   "cell_type": "code",
   "execution_count": 11,
   "metadata": {},
   "outputs": [
    {
     "data": {
      "text/html": [
       "<div>\n",
       "<style scoped>\n",
       "    .dataframe tbody tr th:only-of-type {\n",
       "        vertical-align: middle;\n",
       "    }\n",
       "\n",
       "    .dataframe tbody tr th {\n",
       "        vertical-align: top;\n",
       "    }\n",
       "\n",
       "    .dataframe thead th {\n",
       "        text-align: right;\n",
       "    }\n",
       "</style>\n",
       "<table border=\"1\" class=\"dataframe\">\n",
       "  <thead>\n",
       "    <tr style=\"text-align: right;\">\n",
       "      <th></th>\n",
       "      <th>userId</th>\n",
       "      <th>movieId</th>\n",
       "      <th>tag</th>\n",
       "      <th>timestamp</th>\n",
       "    </tr>\n",
       "  </thead>\n",
       "  <tbody>\n",
       "    <tr>\n",
       "      <th>0</th>\n",
       "      <td>18</td>\n",
       "      <td>4141</td>\n",
       "      <td>Mark Waters</td>\n",
       "      <td>2009-04-24 18:19:40</td>\n",
       "    </tr>\n",
       "    <tr>\n",
       "      <th>1</th>\n",
       "      <td>65</td>\n",
       "      <td>208</td>\n",
       "      <td>dark hero</td>\n",
       "      <td>2013-05-10 01:41:18</td>\n",
       "    </tr>\n",
       "    <tr>\n",
       "      <th>2</th>\n",
       "      <td>65</td>\n",
       "      <td>353</td>\n",
       "      <td>dark hero</td>\n",
       "      <td>2013-05-10 01:41:19</td>\n",
       "    </tr>\n",
       "    <tr>\n",
       "      <th>3</th>\n",
       "      <td>65</td>\n",
       "      <td>521</td>\n",
       "      <td>noir thriller</td>\n",
       "      <td>2013-05-10 01:39:43</td>\n",
       "    </tr>\n",
       "    <tr>\n",
       "      <th>4</th>\n",
       "      <td>65</td>\n",
       "      <td>592</td>\n",
       "      <td>dark hero</td>\n",
       "      <td>2013-05-10 01:41:18</td>\n",
       "    </tr>\n",
       "  </tbody>\n",
       "</table>\n",
       "</div>"
      ],
      "text/plain": [
       "   userId  movieId            tag            timestamp\n",
       "0      18     4141    Mark Waters  2009-04-24 18:19:40\n",
       "1      65      208      dark hero  2013-05-10 01:41:18\n",
       "2      65      353      dark hero  2013-05-10 01:41:19\n",
       "3      65      521  noir thriller  2013-05-10 01:39:43\n",
       "4      65      592      dark hero  2013-05-10 01:41:18"
      ]
     },
     "execution_count": 11,
     "metadata": {},
     "output_type": "execute_result"
    }
   ],
   "source": [
    "tags = pd.read_csv('/Users/user/movielens-20m-dataset/tag.csv')\n",
    "tags.head()"
   ]
  },
  {
   "cell_type": "code",
   "execution_count": 12,
   "metadata": {},
   "outputs": [
    {
     "data": {
      "text/html": [
       "<div>\n",
       "<style scoped>\n",
       "    .dataframe tbody tr th:only-of-type {\n",
       "        vertical-align: middle;\n",
       "    }\n",
       "\n",
       "    .dataframe tbody tr th {\n",
       "        vertical-align: top;\n",
       "    }\n",
       "\n",
       "    .dataframe thead th {\n",
       "        text-align: right;\n",
       "    }\n",
       "</style>\n",
       "<table border=\"1\" class=\"dataframe\">\n",
       "  <thead>\n",
       "    <tr style=\"text-align: right;\">\n",
       "      <th></th>\n",
       "      <th>tagId</th>\n",
       "      <th>tag</th>\n",
       "    </tr>\n",
       "  </thead>\n",
       "  <tbody>\n",
       "    <tr>\n",
       "      <th>0</th>\n",
       "      <td>1</td>\n",
       "      <td>007</td>\n",
       "    </tr>\n",
       "    <tr>\n",
       "      <th>1</th>\n",
       "      <td>2</td>\n",
       "      <td>007 (series)</td>\n",
       "    </tr>\n",
       "    <tr>\n",
       "      <th>2</th>\n",
       "      <td>3</td>\n",
       "      <td>18th century</td>\n",
       "    </tr>\n",
       "    <tr>\n",
       "      <th>3</th>\n",
       "      <td>4</td>\n",
       "      <td>1920s</td>\n",
       "    </tr>\n",
       "    <tr>\n",
       "      <th>4</th>\n",
       "      <td>5</td>\n",
       "      <td>1930s</td>\n",
       "    </tr>\n",
       "  </tbody>\n",
       "</table>\n",
       "</div>"
      ],
      "text/plain": [
       "   tagId           tag\n",
       "0      1           007\n",
       "1      2  007 (series)\n",
       "2      3  18th century\n",
       "3      4         1920s\n",
       "4      5         1930s"
      ]
     },
     "execution_count": 12,
     "metadata": {},
     "output_type": "execute_result"
    }
   ],
   "source": [
    "genome_tags = pd.read_csv('/Users/user/movielens-20m-dataset/genome_tags.csv')\n",
    "genome_tags.head()"
   ]
  },
  {
   "cell_type": "code",
   "execution_count": 13,
   "metadata": {},
   "outputs": [
    {
     "data": {
      "text/html": [
       "<div>\n",
       "<style scoped>\n",
       "    .dataframe tbody tr th:only-of-type {\n",
       "        vertical-align: middle;\n",
       "    }\n",
       "\n",
       "    .dataframe tbody tr th {\n",
       "        vertical-align: top;\n",
       "    }\n",
       "\n",
       "    .dataframe thead th {\n",
       "        text-align: right;\n",
       "    }\n",
       "</style>\n",
       "<table border=\"1\" class=\"dataframe\">\n",
       "  <thead>\n",
       "    <tr style=\"text-align: right;\">\n",
       "      <th></th>\n",
       "      <th>movieId</th>\n",
       "      <th>tagId</th>\n",
       "      <th>relevance</th>\n",
       "    </tr>\n",
       "  </thead>\n",
       "  <tbody>\n",
       "    <tr>\n",
       "      <th>0</th>\n",
       "      <td>1</td>\n",
       "      <td>1</td>\n",
       "      <td>0.02500</td>\n",
       "    </tr>\n",
       "    <tr>\n",
       "      <th>1</th>\n",
       "      <td>1</td>\n",
       "      <td>2</td>\n",
       "      <td>0.02500</td>\n",
       "    </tr>\n",
       "    <tr>\n",
       "      <th>2</th>\n",
       "      <td>1</td>\n",
       "      <td>3</td>\n",
       "      <td>0.05775</td>\n",
       "    </tr>\n",
       "    <tr>\n",
       "      <th>3</th>\n",
       "      <td>1</td>\n",
       "      <td>4</td>\n",
       "      <td>0.09675</td>\n",
       "    </tr>\n",
       "    <tr>\n",
       "      <th>4</th>\n",
       "      <td>1</td>\n",
       "      <td>5</td>\n",
       "      <td>0.14675</td>\n",
       "    </tr>\n",
       "  </tbody>\n",
       "</table>\n",
       "</div>"
      ],
      "text/plain": [
       "   movieId  tagId  relevance\n",
       "0        1      1    0.02500\n",
       "1        1      2    0.02500\n",
       "2        1      3    0.05775\n",
       "3        1      4    0.09675\n",
       "4        1      5    0.14675"
      ]
     },
     "execution_count": 13,
     "metadata": {},
     "output_type": "execute_result"
    }
   ],
   "source": [
    "genome_scores = pd.read_csv('/Users/user/movielens-20m-dataset/genome_scores.csv')\n",
    "genome_scores.head()"
   ]
  },
  {
   "cell_type": "code",
   "execution_count": 14,
   "metadata": {},
   "outputs": [
    {
     "data": {
      "text/plain": [
       "(11709768, 3)"
      ]
     },
     "execution_count": 14,
     "metadata": {},
     "output_type": "execute_result"
    }
   ],
   "source": [
    "genome_scores.shape"
   ]
  },
  {
   "cell_type": "code",
   "execution_count": 15,
   "metadata": {},
   "outputs": [
    {
     "data": {
      "text/html": [
       "<div>\n",
       "<style scoped>\n",
       "    .dataframe tbody tr th:only-of-type {\n",
       "        vertical-align: middle;\n",
       "    }\n",
       "\n",
       "    .dataframe tbody tr th {\n",
       "        vertical-align: top;\n",
       "    }\n",
       "\n",
       "    .dataframe thead th {\n",
       "        text-align: right;\n",
       "    }\n",
       "</style>\n",
       "<table border=\"1\" class=\"dataframe\">\n",
       "  <thead>\n",
       "    <tr style=\"text-align: right;\">\n",
       "      <th></th>\n",
       "      <th>movieId</th>\n",
       "      <th>imdbId</th>\n",
       "      <th>tmdbId</th>\n",
       "    </tr>\n",
       "  </thead>\n",
       "  <tbody>\n",
       "    <tr>\n",
       "      <th>0</th>\n",
       "      <td>1</td>\n",
       "      <td>114709</td>\n",
       "      <td>862.0</td>\n",
       "    </tr>\n",
       "    <tr>\n",
       "      <th>1</th>\n",
       "      <td>2</td>\n",
       "      <td>113497</td>\n",
       "      <td>8844.0</td>\n",
       "    </tr>\n",
       "    <tr>\n",
       "      <th>2</th>\n",
       "      <td>3</td>\n",
       "      <td>113228</td>\n",
       "      <td>15602.0</td>\n",
       "    </tr>\n",
       "    <tr>\n",
       "      <th>3</th>\n",
       "      <td>4</td>\n",
       "      <td>114885</td>\n",
       "      <td>31357.0</td>\n",
       "    </tr>\n",
       "    <tr>\n",
       "      <th>4</th>\n",
       "      <td>5</td>\n",
       "      <td>113041</td>\n",
       "      <td>11862.0</td>\n",
       "    </tr>\n",
       "  </tbody>\n",
       "</table>\n",
       "</div>"
      ],
      "text/plain": [
       "   movieId  imdbId   tmdbId\n",
       "0        1  114709    862.0\n",
       "1        2  113497   8844.0\n",
       "2        3  113228  15602.0\n",
       "3        4  114885  31357.0\n",
       "4        5  113041  11862.0"
      ]
     },
     "execution_count": 15,
     "metadata": {},
     "output_type": "execute_result"
    }
   ],
   "source": [
    "links = pd.read_csv('/Users/user/movielens-20m-dataset/link.csv')\n",
    "links.head()"
   ]
  },
  {
   "cell_type": "code",
   "execution_count": 228,
   "metadata": {},
   "outputs": [
    {
     "data": {
      "text/plain": [
       "(20000263, 4)"
      ]
     },
     "execution_count": 228,
     "metadata": {},
     "output_type": "execute_result"
    }
   ],
   "source": [
    "ratings.shape"
   ]
  },
  {
   "cell_type": "code",
   "execution_count": 17,
   "metadata": {},
   "outputs": [
    {
     "name": "stdout",
     "output_type": "stream",
     "text": [
      "Number of users = 138493 | Number of movies = 26744\n"
     ]
    }
   ],
   "source": [
    "n_users = ratings.userId.unique().shape[0]\n",
    "n_movies = ratings.movieId.unique().shape[0]\n",
    "print('Number of users = ' + str(n_users) + ' | Number of movies = ' + str(n_movies))"
   ]
  },
  {
   "cell_type": "code",
   "execution_count": 29,
   "metadata": {},
   "outputs": [],
   "source": [
    "reader = Reader(rating_scale=(1, 5))"
   ]
  },
  {
   "cell_type": "code",
   "execution_count": 31,
   "metadata": {},
   "outputs": [],
   "source": [
    "data = Dataset.load_from_df(ratings[['userId', 'movieId', 'rating']], reader)"
   ]
  },
  {
   "cell_type": "code",
   "execution_count": 32,
   "metadata": {
    "scrolled": false
   },
   "outputs": [
    {
     "name": "stdout",
     "output_type": "stream",
     "text": [
      "Processing epoch 0\n",
      "Processing epoch 1\n",
      "Processing epoch 2\n",
      "Processing epoch 3\n",
      "Processing epoch 4\n",
      "Processing epoch 5\n",
      "Processing epoch 6\n",
      "Processing epoch 7\n",
      "Processing epoch 8\n",
      "Processing epoch 9\n",
      "Processing epoch 10\n",
      "Processing epoch 11\n",
      "Processing epoch 12\n",
      "Processing epoch 13\n",
      "Processing epoch 14\n",
      "Processing epoch 15\n",
      "Processing epoch 16\n",
      "Processing epoch 17\n",
      "Processing epoch 18\n",
      "Processing epoch 19\n",
      "RMSE: 0.7862\n",
      "Processing epoch 0\n",
      "Processing epoch 1\n",
      "Processing epoch 2\n",
      "Processing epoch 3\n",
      "Processing epoch 4\n",
      "Processing epoch 5\n",
      "Processing epoch 6\n",
      "Processing epoch 7\n",
      "Processing epoch 8\n",
      "Processing epoch 9\n",
      "Processing epoch 10\n",
      "Processing epoch 11\n",
      "Processing epoch 12\n",
      "Processing epoch 13\n",
      "Processing epoch 14\n",
      "Processing epoch 15\n",
      "Processing epoch 16\n",
      "Processing epoch 17\n",
      "Processing epoch 18\n",
      "Processing epoch 19\n",
      "RMSE: 0.7856\n",
      "Processing epoch 0\n",
      "Processing epoch 1\n",
      "Processing epoch 2\n",
      "Processing epoch 3\n",
      "Processing epoch 4\n",
      "Processing epoch 5\n",
      "Processing epoch 6\n",
      "Processing epoch 7\n",
      "Processing epoch 8\n",
      "Processing epoch 9\n",
      "Processing epoch 10\n",
      "Processing epoch 11\n",
      "Processing epoch 12\n",
      "Processing epoch 13\n",
      "Processing epoch 14\n",
      "Processing epoch 15\n",
      "Processing epoch 16\n",
      "Processing epoch 17\n",
      "Processing epoch 18\n",
      "Processing epoch 19\n",
      "RMSE: 0.7856\n",
      "Processing epoch 0\n",
      "Processing epoch 1\n",
      "Processing epoch 2\n",
      "Processing epoch 3\n",
      "Processing epoch 4\n",
      "Processing epoch 5\n",
      "Processing epoch 6\n",
      "Processing epoch 7\n",
      "Processing epoch 8\n",
      "Processing epoch 9\n",
      "Processing epoch 10\n",
      "Processing epoch 11\n",
      "Processing epoch 12\n",
      "Processing epoch 13\n",
      "Processing epoch 14\n",
      "Processing epoch 15\n",
      "Processing epoch 16\n",
      "Processing epoch 17\n",
      "Processing epoch 18\n",
      "Processing epoch 19\n",
      "RMSE: 0.7864\n",
      "Processing epoch 0\n",
      "Processing epoch 1\n",
      "Processing epoch 2\n",
      "Processing epoch 3\n",
      "Processing epoch 4\n",
      "Processing epoch 5\n",
      "Processing epoch 6\n",
      "Processing epoch 7\n",
      "Processing epoch 8\n",
      "Processing epoch 9\n",
      "Processing epoch 10\n",
      "Processing epoch 11\n",
      "Processing epoch 12\n",
      "Processing epoch 13\n",
      "Processing epoch 14\n",
      "Processing epoch 15\n",
      "Processing epoch 16\n",
      "Processing epoch 17\n",
      "Processing epoch 18\n",
      "Processing epoch 19\n",
      "RMSE: 0.7858\n",
      "Runtime 5292.65\n"
     ]
    }
   ],
   "source": [
    "# define a cross-validation iterator\n",
    "\n",
    "start = time.time()\n",
    "\n",
    "kf = KFold(n_splits=5)\n",
    "\n",
    "algo = SVD(verbose=True)\n",
    "\n",
    "for trainset, testset in kf.split(data):\n",
    "\n",
    "    # train and test algorithm.\n",
    "    algo.fit(trainset)\n",
    "    predictions = algo.test(testset)\n",
    "\n",
    "    # Compute and print Root Mean Squared Error\n",
    "    accuracy.rmse(predictions, verbose=True)\n",
    "    \n",
    "print(\"Runtime %0.2f\" % (time.time() - start))"
   ]
  },
  {
   "cell_type": "code",
   "execution_count": 265,
   "metadata": {},
   "outputs": [
    {
     "name": "stdout",
     "output_type": "stream",
     "text": [
      "The mean RMSE of the full rating set is: 0.78592\n"
     ]
    }
   ],
   "source": [
    "rmses = [0.7862,0.7856,0.7856,0.7864,0.7858]\n",
    "rmse_avg = round(sum(rmses) / len(rmses),5)\n",
    "print('The mean RMSE of the full rating set is: {}'.format(rmse_avg))"
   ]
  },
  {
   "cell_type": "code",
   "execution_count": 33,
   "metadata": {},
   "outputs": [
    {
     "data": {
      "text/plain": [
       "Prediction(uid=345, iid=3954, r_ui=None, est=2.953376558090905, details={'was_impossible': False})"
      ]
     },
     "execution_count": 33,
     "metadata": {},
     "output_type": "execute_result"
    }
   ],
   "source": [
    "algo.predict(345,3954)"
   ]
  },
  {
   "cell_type": "code",
   "execution_count": 34,
   "metadata": {},
   "outputs": [
    {
     "data": {
      "text/html": [
       "<div>\n",
       "<style scoped>\n",
       "    .dataframe tbody tr th:only-of-type {\n",
       "        vertical-align: middle;\n",
       "    }\n",
       "\n",
       "    .dataframe tbody tr th {\n",
       "        vertical-align: top;\n",
       "    }\n",
       "\n",
       "    .dataframe thead th {\n",
       "        text-align: right;\n",
       "    }\n",
       "</style>\n",
       "<table border=\"1\" class=\"dataframe\">\n",
       "  <thead>\n",
       "    <tr style=\"text-align: right;\">\n",
       "      <th></th>\n",
       "      <th>userId</th>\n",
       "      <th>movieId</th>\n",
       "      <th>rating</th>\n",
       "      <th>timestamp</th>\n",
       "    </tr>\n",
       "  </thead>\n",
       "  <tbody>\n",
       "    <tr>\n",
       "      <th>44668</th>\n",
       "      <td>345</td>\n",
       "      <td>111</td>\n",
       "      <td>4.0</td>\n",
       "      <td>2006-03-08 14:48:54</td>\n",
       "    </tr>\n",
       "    <tr>\n",
       "      <th>44669</th>\n",
       "      <td>345</td>\n",
       "      <td>223</td>\n",
       "      <td>3.0</td>\n",
       "      <td>2006-03-08 14:48:38</td>\n",
       "    </tr>\n",
       "    <tr>\n",
       "      <th>44670</th>\n",
       "      <td>345</td>\n",
       "      <td>266</td>\n",
       "      <td>2.0</td>\n",
       "      <td>2006-03-08 14:50:04</td>\n",
       "    </tr>\n",
       "    <tr>\n",
       "      <th>44671</th>\n",
       "      <td>345</td>\n",
       "      <td>508</td>\n",
       "      <td>4.5</td>\n",
       "      <td>2006-03-08 14:49:44</td>\n",
       "    </tr>\n",
       "    <tr>\n",
       "      <th>44672</th>\n",
       "      <td>345</td>\n",
       "      <td>594</td>\n",
       "      <td>3.0</td>\n",
       "      <td>2006-03-08 14:50:10</td>\n",
       "    </tr>\n",
       "    <tr>\n",
       "      <th>44673</th>\n",
       "      <td>345</td>\n",
       "      <td>750</td>\n",
       "      <td>5.0</td>\n",
       "      <td>2006-03-08 14:50:00</td>\n",
       "    </tr>\n",
       "    <tr>\n",
       "      <th>44674</th>\n",
       "      <td>345</td>\n",
       "      <td>919</td>\n",
       "      <td>2.0</td>\n",
       "      <td>2006-03-08 14:48:59</td>\n",
       "    </tr>\n",
       "    <tr>\n",
       "      <th>44675</th>\n",
       "      <td>345</td>\n",
       "      <td>1101</td>\n",
       "      <td>3.0</td>\n",
       "      <td>2006-03-08 14:50:15</td>\n",
       "    </tr>\n",
       "    <tr>\n",
       "      <th>44676</th>\n",
       "      <td>345</td>\n",
       "      <td>1220</td>\n",
       "      <td>3.5</td>\n",
       "      <td>2006-03-08 14:49:55</td>\n",
       "    </tr>\n",
       "    <tr>\n",
       "      <th>44677</th>\n",
       "      <td>345</td>\n",
       "      <td>1221</td>\n",
       "      <td>4.0</td>\n",
       "      <td>2006-03-08 14:48:46</td>\n",
       "    </tr>\n",
       "    <tr>\n",
       "      <th>44678</th>\n",
       "      <td>345</td>\n",
       "      <td>1307</td>\n",
       "      <td>4.0</td>\n",
       "      <td>2006-03-08 14:49:26</td>\n",
       "    </tr>\n",
       "    <tr>\n",
       "      <th>44679</th>\n",
       "      <td>345</td>\n",
       "      <td>1923</td>\n",
       "      <td>3.0</td>\n",
       "      <td>2006-03-08 14:49:23</td>\n",
       "    </tr>\n",
       "    <tr>\n",
       "      <th>44680</th>\n",
       "      <td>345</td>\n",
       "      <td>1961</td>\n",
       "      <td>3.0</td>\n",
       "      <td>2006-03-08 14:48:51</td>\n",
       "    </tr>\n",
       "    <tr>\n",
       "      <th>44681</th>\n",
       "      <td>345</td>\n",
       "      <td>2355</td>\n",
       "      <td>3.5</td>\n",
       "      <td>2006-03-08 14:49:58</td>\n",
       "    </tr>\n",
       "    <tr>\n",
       "      <th>44682</th>\n",
       "      <td>345</td>\n",
       "      <td>2716</td>\n",
       "      <td>4.0</td>\n",
       "      <td>2006-03-08 14:48:41</td>\n",
       "    </tr>\n",
       "    <tr>\n",
       "      <th>44683</th>\n",
       "      <td>345</td>\n",
       "      <td>2997</td>\n",
       "      <td>4.0</td>\n",
       "      <td>2006-03-08 14:48:35</td>\n",
       "    </tr>\n",
       "    <tr>\n",
       "      <th>44684</th>\n",
       "      <td>345</td>\n",
       "      <td>3793</td>\n",
       "      <td>4.0</td>\n",
       "      <td>2006-03-08 14:49:47</td>\n",
       "    </tr>\n",
       "    <tr>\n",
       "      <th>44685</th>\n",
       "      <td>345</td>\n",
       "      <td>3996</td>\n",
       "      <td>3.5</td>\n",
       "      <td>2006-03-08 14:49:38</td>\n",
       "    </tr>\n",
       "    <tr>\n",
       "      <th>44686</th>\n",
       "      <td>345</td>\n",
       "      <td>4306</td>\n",
       "      <td>3.5</td>\n",
       "      <td>2006-03-08 14:49:19</td>\n",
       "    </tr>\n",
       "    <tr>\n",
       "      <th>44687</th>\n",
       "      <td>345</td>\n",
       "      <td>4993</td>\n",
       "      <td>5.0</td>\n",
       "      <td>2006-03-08 14:49:15</td>\n",
       "    </tr>\n",
       "  </tbody>\n",
       "</table>\n",
       "</div>"
      ],
      "text/plain": [
       "       userId  movieId  rating            timestamp\n",
       "44668     345      111     4.0  2006-03-08 14:48:54\n",
       "44669     345      223     3.0  2006-03-08 14:48:38\n",
       "44670     345      266     2.0  2006-03-08 14:50:04\n",
       "44671     345      508     4.5  2006-03-08 14:49:44\n",
       "44672     345      594     3.0  2006-03-08 14:50:10\n",
       "44673     345      750     5.0  2006-03-08 14:50:00\n",
       "44674     345      919     2.0  2006-03-08 14:48:59\n",
       "44675     345     1101     3.0  2006-03-08 14:50:15\n",
       "44676     345     1220     3.5  2006-03-08 14:49:55\n",
       "44677     345     1221     4.0  2006-03-08 14:48:46\n",
       "44678     345     1307     4.0  2006-03-08 14:49:26\n",
       "44679     345     1923     3.0  2006-03-08 14:49:23\n",
       "44680     345     1961     3.0  2006-03-08 14:48:51\n",
       "44681     345     2355     3.5  2006-03-08 14:49:58\n",
       "44682     345     2716     4.0  2006-03-08 14:48:41\n",
       "44683     345     2997     4.0  2006-03-08 14:48:35\n",
       "44684     345     3793     4.0  2006-03-08 14:49:47\n",
       "44685     345     3996     3.5  2006-03-08 14:49:38\n",
       "44686     345     4306     3.5  2006-03-08 14:49:19\n",
       "44687     345     4993     5.0  2006-03-08 14:49:15"
      ]
     },
     "execution_count": 34,
     "metadata": {},
     "output_type": "execute_result"
    }
   ],
   "source": [
    "ratings[ratings['userId'] == 345]"
   ]
  },
  {
   "cell_type": "code",
   "execution_count": 36,
   "metadata": {},
   "outputs": [
    {
     "data": {
      "text/html": [
       "<div>\n",
       "<style scoped>\n",
       "    .dataframe tbody tr th:only-of-type {\n",
       "        vertical-align: middle;\n",
       "    }\n",
       "\n",
       "    .dataframe tbody tr th {\n",
       "        vertical-align: top;\n",
       "    }\n",
       "\n",
       "    .dataframe thead th {\n",
       "        text-align: right;\n",
       "    }\n",
       "</style>\n",
       "<table border=\"1\" class=\"dataframe\">\n",
       "  <thead>\n",
       "    <tr style=\"text-align: right;\">\n",
       "      <th></th>\n",
       "      <th>userId</th>\n",
       "      <th>movieId</th>\n",
       "      <th>rating</th>\n",
       "      <th>timestamp</th>\n",
       "    </tr>\n",
       "  </thead>\n",
       "  <tbody>\n",
       "    <tr>\n",
       "      <th>90419</th>\n",
       "      <td>632</td>\n",
       "      <td>3954</td>\n",
       "      <td>2.0</td>\n",
       "      <td>2003-04-24 02:18:42</td>\n",
       "    </tr>\n",
       "  </tbody>\n",
       "</table>\n",
       "</div>"
      ],
      "text/plain": [
       "       userId  movieId  rating            timestamp\n",
       "90419     632     3954     2.0  2003-04-24 02:18:42"
      ]
     },
     "execution_count": 36,
     "metadata": {},
     "output_type": "execute_result"
    }
   ],
   "source": [
    "ratings[ratings['movieId'] == 3954].head(1)"
   ]
  },
  {
   "cell_type": "code",
   "execution_count": 71,
   "metadata": {},
   "outputs": [],
   "source": [
    "def check_system(Id,movieId,limit,df=ratings,userId='userId',algo=algo):\n",
    "    user_df = df[df['userId'] == Id]\n",
    "    rated_movs = user_df['movieId'].tolist()\n",
    "    #est_list = []\n",
    "    \n",
    "    #for i in range(0,len(rated_movs)):\n",
    "    #    a = round(algo.predict(userId,rated_movs[i]).est,2)\n",
    "    #    est_list.append(a)\n",
    "    \n",
    "    #user_df['est'] = est_list\n",
    "    user_df['est'] = user_df['movieId'].apply(lambda x: round(algo.predict(Id,x).est,2))\n",
    "    \n",
    "    if limit == None:\n",
    "        return user_df\n",
    "    \n",
    "    else:\n",
    "        return user_df.head(limit)"
   ]
  },
  {
   "cell_type": "code",
   "execution_count": null,
   "metadata": {},
   "outputs": [],
   "source": [
    "runtimes = []"
   ]
  },
  {
   "cell_type": "code",
   "execution_count": 76,
   "metadata": {},
   "outputs": [],
   "source": [
    "start = time.time()\n",
    "\n",
    "check_system(345,'movieId',None)\n",
    "\n",
    "Runtime = time.time() - start\n",
    "runtimes.append(Runtime)"
   ]
  },
  {
   "cell_type": "code",
   "execution_count": 77,
   "metadata": {},
   "outputs": [
    {
     "data": {
      "text/plain": [
       "[27.562493324279785, 8.007270812988281]"
      ]
     },
     "execution_count": 77,
     "metadata": {},
     "output_type": "execute_result"
    }
   ],
   "source": [
    "runtimes "
   ]
  },
  {
   "cell_type": "code",
   "execution_count": 78,
   "metadata": {},
   "outputs": [
    {
     "data": {
      "text/html": [
       "<div>\n",
       "<style scoped>\n",
       "    .dataframe tbody tr th:only-of-type {\n",
       "        vertical-align: middle;\n",
       "    }\n",
       "\n",
       "    .dataframe tbody tr th {\n",
       "        vertical-align: top;\n",
       "    }\n",
       "\n",
       "    .dataframe thead th {\n",
       "        text-align: right;\n",
       "    }\n",
       "</style>\n",
       "<table border=\"1\" class=\"dataframe\">\n",
       "  <thead>\n",
       "    <tr style=\"text-align: right;\">\n",
       "      <th></th>\n",
       "      <th>userId</th>\n",
       "      <th>movieId</th>\n",
       "      <th>rating</th>\n",
       "      <th>est</th>\n",
       "    </tr>\n",
       "  </thead>\n",
       "  <tbody>\n",
       "    <tr>\n",
       "      <th>44668</th>\n",
       "      <td>345</td>\n",
       "      <td>111</td>\n",
       "      <td>4.0</td>\n",
       "      <td>3.85</td>\n",
       "    </tr>\n",
       "    <tr>\n",
       "      <th>44669</th>\n",
       "      <td>345</td>\n",
       "      <td>223</td>\n",
       "      <td>3.0</td>\n",
       "      <td>3.65</td>\n",
       "    </tr>\n",
       "    <tr>\n",
       "      <th>44670</th>\n",
       "      <td>345</td>\n",
       "      <td>266</td>\n",
       "      <td>2.0</td>\n",
       "      <td>3.10</td>\n",
       "    </tr>\n",
       "    <tr>\n",
       "      <th>44671</th>\n",
       "      <td>345</td>\n",
       "      <td>508</td>\n",
       "      <td>4.5</td>\n",
       "      <td>3.86</td>\n",
       "    </tr>\n",
       "    <tr>\n",
       "      <th>44672</th>\n",
       "      <td>345</td>\n",
       "      <td>594</td>\n",
       "      <td>3.0</td>\n",
       "      <td>3.56</td>\n",
       "    </tr>\n",
       "    <tr>\n",
       "      <th>44673</th>\n",
       "      <td>345</td>\n",
       "      <td>750</td>\n",
       "      <td>5.0</td>\n",
       "      <td>4.06</td>\n",
       "    </tr>\n",
       "    <tr>\n",
       "      <th>44674</th>\n",
       "      <td>345</td>\n",
       "      <td>919</td>\n",
       "      <td>2.0</td>\n",
       "      <td>4.04</td>\n",
       "    </tr>\n",
       "    <tr>\n",
       "      <th>44675</th>\n",
       "      <td>345</td>\n",
       "      <td>1101</td>\n",
       "      <td>3.0</td>\n",
       "      <td>3.30</td>\n",
       "    </tr>\n",
       "    <tr>\n",
       "      <th>44676</th>\n",
       "      <td>345</td>\n",
       "      <td>1220</td>\n",
       "      <td>3.5</td>\n",
       "      <td>3.77</td>\n",
       "    </tr>\n",
       "    <tr>\n",
       "      <th>44677</th>\n",
       "      <td>345</td>\n",
       "      <td>1221</td>\n",
       "      <td>4.0</td>\n",
       "      <td>3.93</td>\n",
       "    </tr>\n",
       "    <tr>\n",
       "      <th>44678</th>\n",
       "      <td>345</td>\n",
       "      <td>1307</td>\n",
       "      <td>4.0</td>\n",
       "      <td>3.80</td>\n",
       "    </tr>\n",
       "    <tr>\n",
       "      <th>44679</th>\n",
       "      <td>345</td>\n",
       "      <td>1923</td>\n",
       "      <td>3.0</td>\n",
       "      <td>3.48</td>\n",
       "    </tr>\n",
       "    <tr>\n",
       "      <th>44680</th>\n",
       "      <td>345</td>\n",
       "      <td>1961</td>\n",
       "      <td>3.0</td>\n",
       "      <td>3.68</td>\n",
       "    </tr>\n",
       "    <tr>\n",
       "      <th>44681</th>\n",
       "      <td>345</td>\n",
       "      <td>2355</td>\n",
       "      <td>3.5</td>\n",
       "      <td>3.59</td>\n",
       "    </tr>\n",
       "    <tr>\n",
       "      <th>44682</th>\n",
       "      <td>345</td>\n",
       "      <td>2716</td>\n",
       "      <td>4.0</td>\n",
       "      <td>3.69</td>\n",
       "    </tr>\n",
       "    <tr>\n",
       "      <th>44683</th>\n",
       "      <td>345</td>\n",
       "      <td>2997</td>\n",
       "      <td>4.0</td>\n",
       "      <td>3.74</td>\n",
       "    </tr>\n",
       "    <tr>\n",
       "      <th>44684</th>\n",
       "      <td>345</td>\n",
       "      <td>3793</td>\n",
       "      <td>4.0</td>\n",
       "      <td>3.74</td>\n",
       "    </tr>\n",
       "    <tr>\n",
       "      <th>44685</th>\n",
       "      <td>345</td>\n",
       "      <td>3996</td>\n",
       "      <td>3.5</td>\n",
       "      <td>3.71</td>\n",
       "    </tr>\n",
       "    <tr>\n",
       "      <th>44686</th>\n",
       "      <td>345</td>\n",
       "      <td>4306</td>\n",
       "      <td>3.5</td>\n",
       "      <td>3.76</td>\n",
       "    </tr>\n",
       "    <tr>\n",
       "      <th>44687</th>\n",
       "      <td>345</td>\n",
       "      <td>4993</td>\n",
       "      <td>5.0</td>\n",
       "      <td>4.11</td>\n",
       "    </tr>\n",
       "  </tbody>\n",
       "</table>\n",
       "</div>"
      ],
      "text/plain": [
       "       userId  movieId  rating   est\n",
       "44668     345      111     4.0  3.85\n",
       "44669     345      223     3.0  3.65\n",
       "44670     345      266     2.0  3.10\n",
       "44671     345      508     4.5  3.86\n",
       "44672     345      594     3.0  3.56\n",
       "44673     345      750     5.0  4.06\n",
       "44674     345      919     2.0  4.04\n",
       "44675     345     1101     3.0  3.30\n",
       "44676     345     1220     3.5  3.77\n",
       "44677     345     1221     4.0  3.93\n",
       "44678     345     1307     4.0  3.80\n",
       "44679     345     1923     3.0  3.48\n",
       "44680     345     1961     3.0  3.68\n",
       "44681     345     2355     3.5  3.59\n",
       "44682     345     2716     4.0  3.69\n",
       "44683     345     2997     4.0  3.74\n",
       "44684     345     3793     4.0  3.74\n",
       "44685     345     3996     3.5  3.71\n",
       "44686     345     4306     3.5  3.76\n",
       "44687     345     4993     5.0  4.11"
      ]
     },
     "execution_count": 78,
     "metadata": {},
     "output_type": "execute_result"
    }
   ],
   "source": [
    "check_system(345,'movieId',None)"
   ]
  },
  {
   "cell_type": "markdown",
   "metadata": {},
   "source": [
    "# Analysis so far\n",
    "\n",
    "Our SVD algorithm has a RMSE of 0.7858, which is not bad at all. I'm finding that the ratings tend to be centeralized, leaning toward mean ratings around 3-4 for every movie predicted and I'm wondering if this has to do with the distribution of ratings in the raw data and what we would get if we scaled it down to have a more even number of ratings in each bin."
   ]
  },
  {
   "cell_type": "code",
   "execution_count": 80,
   "metadata": {},
   "outputs": [
    {
     "data": {
      "text/plain": [
       "<matplotlib.axes._subplots.AxesSubplot at 0x1c3ab76a20>"
      ]
     },
     "execution_count": 80,
     "metadata": {},
     "output_type": "execute_result"
    },
    {
     "data": {
      "image/png": "[encoded data removed]",
      "text/plain": [
       "<Figure size 432x288 with 1 Axes>"
      ]
     },
     "metadata": {
      "needs_background": "light"
     },
     "output_type": "display_data"
    }
   ],
   "source": [
    "sns.boxplot(ratings['rating'])"
   ]
  },
  {
   "cell_type": "markdown",
   "metadata": {},
   "source": [
    "Our results tend to fall within the boxplot's allotment for 'mean' ratings, meaning it might not be perfectly specified for users. We'll try training with a more even set."
   ]
  },
  {
   "cell_type": "code",
   "execution_count": 82,
   "metadata": {},
   "outputs": [
    {
     "data": {
      "text/plain": [
       "4.0    5561926\n",
       "3.0    4291193\n",
       "5.0    2898660\n",
       "3.5    2200156\n",
       "4.5    1534824\n",
       "2.0    1430997\n",
       "2.5     883398\n",
       "1.0     680732\n",
       "1.5     279252\n",
       "0.5     239125\n",
       "Name: rating, dtype: int64"
      ]
     },
     "execution_count": 82,
     "metadata": {},
     "output_type": "execute_result"
    }
   ],
   "source": [
    "ratings['rating'].value_counts()"
   ]
  },
  {
   "cell_type": "markdown",
   "metadata": {},
   "source": [
    "Figuring out how to select these is hard, as having a 1:1 allotment of each rating could seriously skew the data in terms of how many movies we have or how many ratings. But I also want to be able to train the model accurately by letting it have an even number of movies to look at. So we'll pick 100,000 of each if there are more than 1,000,000 ratings, and include all the ratings if there are fewer.\n"
   ]
  },
  {
   "cell_type": "code",
   "execution_count": 87,
   "metadata": {},
   "outputs": [],
   "source": [
    "alt_ratings = four_star"
   ]
  },
  {
   "cell_type": "code",
   "execution_count": 106,
   "metadata": {},
   "outputs": [],
   "source": [
    "sub_sample(3.0,ratings)"
   ]
  },
  {
   "cell_type": "code",
   "execution_count": 116,
   "metadata": {},
   "outputs": [],
   "source": [
    "alt_ratings = pd.DataFrame()\n",
    "my_ratings = [4.0,3.0,5.0,3.5,4.5,2.0]\n",
    "for rating in my_ratings:\n",
    "    temp_df = ratings[ratings['rating'] == rating]\n",
    "    temp_df = temp_df.sample(n=1000000)\n",
    "    alt_ratings = pd.concat([alt_ratings,temp_df],axis=0)"
   ]
  },
  {
   "cell_type": "code",
   "execution_count": 117,
   "metadata": {},
   "outputs": [
    {
     "data": {
      "text/plain": [
       "(6000000, 3)"
      ]
     },
     "execution_count": 117,
     "metadata": {},
     "output_type": "execute_result"
    }
   ],
   "source": [
    "alt_ratings.shape"
   ]
  },
  {
   "cell_type": "code",
   "execution_count": 112,
   "metadata": {},
   "outputs": [],
   "source": [
    "alt_ratings = alt_ratings.drop('timestamp',axis=1)\n",
    "ratings = ratings.drop('timestamp',axis=1)"
   ]
  },
  {
   "cell_type": "code",
   "execution_count": 118,
   "metadata": {},
   "outputs": [],
   "source": [
    "ratings_left = [2.5,1.0,1.5,0.5]\n",
    "for rating in ratings_left:\n",
    "    temp_df = ratings[ratings['rating'] == rating]\n",
    "    alt_ratings = pd.concat([alt_ratings,temp_df],axis=0)"
   ]
  },
  {
   "cell_type": "code",
   "execution_count": 119,
   "metadata": {},
   "outputs": [
    {
     "data": {
      "text/plain": [
       "5.0    1000000\n",
       "4.5    1000000\n",
       "4.0    1000000\n",
       "3.5    1000000\n",
       "3.0    1000000\n",
       "2.0    1000000\n",
       "2.5     883398\n",
       "1.0     680732\n",
       "1.5     279252\n",
       "0.5     239125\n",
       "Name: rating, dtype: int64"
      ]
     },
     "execution_count": 119,
     "metadata": {},
     "output_type": "execute_result"
    }
   ],
   "source": [
    "alt_ratings['rating'].value_counts()"
   ]
  },
  {
   "cell_type": "markdown",
   "metadata": {},
   "source": [
    "Now we have 1,000,000 ratings each of 5-2, and all the previous ratings of 2.5 stars to 0.5 stars. I am curious about how many users or movies we lost, and since we subsampled, I'm a little worried about not having enough data per user. Let's take a look."
   ]
  },
  {
   "cell_type": "code",
   "execution_count": 259,
   "metadata": {},
   "outputs": [
    {
     "data": {
      "text/plain": [
       "Text(0.5, 1.0, 'Rating Distribution (adjusted)')"
      ]
     },
     "execution_count": 259,
     "metadata": {},
     "output_type": "execute_result"
    },
    {
     "data": {
      "image/png": "[encoded data removed]",
      "text/plain": [
       "<Figure size 432x288 with 1 Axes>"
      ]
     },
     "metadata": {
      "needs_background": "light"
     },
     "output_type": "display_data"
    }
   ],
   "source": [
    "sns.distplot(alt_ratings['rating'])\n",
    "plt.title('Rating Distribution (adjusted)')"
   ]
  },
  {
   "cell_type": "code",
   "execution_count": 123,
   "metadata": {},
   "outputs": [],
   "source": [
    "data = Dataset.load_from_df(alt_ratings[['userId', 'movieId', 'rating']], reader)"
   ]
  },
  {
   "cell_type": "code",
   "execution_count": 124,
   "metadata": {
    "scrolled": false
   },
   "outputs": [
    {
     "name": "stdout",
     "output_type": "stream",
     "text": [
      "Processing epoch 0\n",
      "Processing epoch 1\n",
      "Processing epoch 2\n",
      "Processing epoch 3\n",
      "Processing epoch 4\n",
      "Processing epoch 5\n",
      "Processing epoch 6\n",
      "Processing epoch 7\n",
      "Processing epoch 8\n",
      "Processing epoch 9\n",
      "Processing epoch 10\n",
      "Processing epoch 11\n",
      "Processing epoch 12\n",
      "Processing epoch 13\n",
      "Processing epoch 14\n",
      "Processing epoch 15\n",
      "Processing epoch 16\n",
      "Processing epoch 17\n",
      "Processing epoch 18\n",
      "Processing epoch 19\n",
      "RMSE: 0.9437\n",
      "Processing epoch 0\n",
      "Processing epoch 1\n",
      "Processing epoch 2\n",
      "Processing epoch 3\n",
      "Processing epoch 4\n",
      "Processing epoch 5\n",
      "Processing epoch 6\n",
      "Processing epoch 7\n",
      "Processing epoch 8\n",
      "Processing epoch 9\n",
      "Processing epoch 10\n",
      "Processing epoch 11\n",
      "Processing epoch 12\n",
      "Processing epoch 13\n",
      "Processing epoch 14\n",
      "Processing epoch 15\n",
      "Processing epoch 16\n",
      "Processing epoch 17\n",
      "Processing epoch 18\n",
      "Processing epoch 19\n",
      "RMSE: 0.9433\n",
      "Processing epoch 0\n",
      "Processing epoch 1\n",
      "Processing epoch 2\n",
      "Processing epoch 3\n",
      "Processing epoch 4\n",
      "Processing epoch 5\n",
      "Processing epoch 6\n",
      "Processing epoch 7\n",
      "Processing epoch 8\n",
      "Processing epoch 9\n",
      "Processing epoch 10\n",
      "Processing epoch 11\n",
      "Processing epoch 12\n",
      "Processing epoch 13\n",
      "Processing epoch 14\n",
      "Processing epoch 15\n",
      "Processing epoch 16\n",
      "Processing epoch 17\n",
      "Processing epoch 18\n",
      "Processing epoch 19\n",
      "RMSE: 0.9429\n",
      "Processing epoch 0\n",
      "Processing epoch 1\n",
      "Processing epoch 2\n",
      "Processing epoch 3\n",
      "Processing epoch 4\n",
      "Processing epoch 5\n",
      "Processing epoch 6\n",
      "Processing epoch 7\n",
      "Processing epoch 8\n",
      "Processing epoch 9\n",
      "Processing epoch 10\n",
      "Processing epoch 11\n",
      "Processing epoch 12\n",
      "Processing epoch 13\n",
      "Processing epoch 14\n",
      "Processing epoch 15\n",
      "Processing epoch 16\n",
      "Processing epoch 17\n",
      "Processing epoch 18\n",
      "Processing epoch 19\n",
      "RMSE: 0.9432\n",
      "Processing epoch 0\n",
      "Processing epoch 1\n",
      "Processing epoch 2\n",
      "Processing epoch 3\n",
      "Processing epoch 4\n",
      "Processing epoch 5\n",
      "Processing epoch 6\n",
      "Processing epoch 7\n",
      "Processing epoch 8\n",
      "Processing epoch 9\n",
      "Processing epoch 10\n",
      "Processing epoch 11\n",
      "Processing epoch 12\n",
      "Processing epoch 13\n",
      "Processing epoch 14\n",
      "Processing epoch 15\n",
      "Processing epoch 16\n",
      "Processing epoch 17\n",
      "Processing epoch 18\n",
      "Processing epoch 19\n",
      "RMSE: 0.9443\n",
      "Runtime 2542.96\n"
     ]
    }
   ],
   "source": [
    "# define a cross-validation iterator\n",
    "\n",
    "start = time.time()\n",
    "\n",
    "kf = KFold(n_splits=5)\n",
    "\n",
    "svd = SVD(verbose=True)\n",
    "\n",
    "for trainset, testset in kf.split(data):\n",
    "\n",
    "    # train and test algorithm.\n",
    "    svd.fit(trainset)\n",
    "    alt_pred = svd.test(testset)\n",
    "\n",
    "    # Compute and print Root Mean Squared Error\n",
    "    accuracy.rmse(alt_pred, verbose=True)\n",
    "    \n",
    "print(\"Runtime %0.2f\" % (time.time() - start))"
   ]
  },
  {
   "cell_type": "code",
   "execution_count": 264,
   "metadata": {},
   "outputs": [
    {
     "name": "stdout",
     "output_type": "stream",
     "text": [
      "The mean RMSE of the adjusted rating set is: 0.94348\n"
     ]
    }
   ],
   "source": [
    "rmses = [0.9443,0.9432,0.9429,0.9433,0.9437]\n",
    "rmse_avg = round(sum(rmses) / len(rmses),5)\n",
    "print('The mean RMSE of the adjusted rating set is: {}'.format(rmse_avg))"
   ]
  },
  {
   "cell_type": "code",
   "execution_count": 138,
   "metadata": {},
   "outputs": [
    {
     "data": {
      "text/plain": [
       "144.4135299257002"
      ]
     },
     "execution_count": 138,
     "metadata": {},
     "output_type": "execute_result"
    }
   ],
   "source": [
    "ratings['userId'].value_counts().mean()"
   ]
  },
  {
   "cell_type": "code",
   "execution_count": 231,
   "metadata": {},
   "outputs": [
    {
     "data": {
      "text/html": [
       "<div>\n",
       "<style scoped>\n",
       "    .dataframe tbody tr th:only-of-type {\n",
       "        vertical-align: middle;\n",
       "    }\n",
       "\n",
       "    .dataframe tbody tr th {\n",
       "        vertical-align: top;\n",
       "    }\n",
       "\n",
       "    .dataframe thead th {\n",
       "        text-align: right;\n",
       "    }\n",
       "</style>\n",
       "<table border=\"1\" class=\"dataframe\">\n",
       "  <thead>\n",
       "    <tr style=\"text-align: right;\">\n",
       "      <th></th>\n",
       "      <th>userId</th>\n",
       "      <th>movieId</th>\n",
       "      <th>rating</th>\n",
       "    </tr>\n",
       "  </thead>\n",
       "  <tbody>\n",
       "    <tr>\n",
       "      <th>19781480</th>\n",
       "      <td>136957</td>\n",
       "      <td>34162</td>\n",
       "      <td>4.0</td>\n",
       "    </tr>\n",
       "    <tr>\n",
       "      <th>11513097</th>\n",
       "      <td>79463</td>\n",
       "      <td>1254</td>\n",
       "      <td>4.0</td>\n",
       "    </tr>\n",
       "    <tr>\n",
       "      <th>5392794</th>\n",
       "      <td>37053</td>\n",
       "      <td>5377</td>\n",
       "      <td>4.0</td>\n",
       "    </tr>\n",
       "    <tr>\n",
       "      <th>3344023</th>\n",
       "      <td>22875</td>\n",
       "      <td>2288</td>\n",
       "      <td>4.0</td>\n",
       "    </tr>\n",
       "    <tr>\n",
       "      <th>13715893</th>\n",
       "      <td>94768</td>\n",
       "      <td>1732</td>\n",
       "      <td>4.0</td>\n",
       "    </tr>\n",
       "  </tbody>\n",
       "</table>\n",
       "</div>"
      ],
      "text/plain": [
       "          userId  movieId  rating\n",
       "19781480  136957    34162     4.0\n",
       "11513097   79463     1254     4.0\n",
       "5392794    37053     5377     4.0\n",
       "3344023    22875     2288     4.0\n",
       "13715893   94768     1732     4.0"
      ]
     },
     "execution_count": 231,
     "metadata": {},
     "output_type": "execute_result"
    }
   ],
   "source": [
    "alt_ratings.head()"
   ]
  },
  {
   "cell_type": "code",
   "execution_count": 249,
   "metadata": {},
   "outputs": [
    {
     "data": {
      "text/html": [
       "<div>\n",
       "<style scoped>\n",
       "    .dataframe tbody tr th:only-of-type {\n",
       "        vertical-align: middle;\n",
       "    }\n",
       "\n",
       "    .dataframe tbody tr th {\n",
       "        vertical-align: top;\n",
       "    }\n",
       "\n",
       "    .dataframe thead th {\n",
       "        text-align: right;\n",
       "    }\n",
       "</style>\n",
       "<table border=\"1\" class=\"dataframe\">\n",
       "  <thead>\n",
       "    <tr style=\"text-align: right;\">\n",
       "      <th></th>\n",
       "      <th>userId</th>\n",
       "      <th>movieId</th>\n",
       "      <th>rating</th>\n",
       "      <th>title</th>\n",
       "    </tr>\n",
       "  </thead>\n",
       "  <tbody>\n",
       "    <tr>\n",
       "      <th>0</th>\n",
       "      <td>1</td>\n",
       "      <td>2</td>\n",
       "      <td>3.5</td>\n",
       "      <td>Jumanji (1995)</td>\n",
       "    </tr>\n",
       "    <tr>\n",
       "      <th>1</th>\n",
       "      <td>5</td>\n",
       "      <td>2</td>\n",
       "      <td>3.0</td>\n",
       "      <td>Jumanji (1995)</td>\n",
       "    </tr>\n",
       "    <tr>\n",
       "      <th>2</th>\n",
       "      <td>13</td>\n",
       "      <td>2</td>\n",
       "      <td>3.0</td>\n",
       "      <td>Jumanji (1995)</td>\n",
       "    </tr>\n",
       "    <tr>\n",
       "      <th>3</th>\n",
       "      <td>29</td>\n",
       "      <td>2</td>\n",
       "      <td>3.0</td>\n",
       "      <td>Jumanji (1995)</td>\n",
       "    </tr>\n",
       "    <tr>\n",
       "      <th>4</th>\n",
       "      <td>34</td>\n",
       "      <td>2</td>\n",
       "      <td>3.0</td>\n",
       "      <td>Jumanji (1995)</td>\n",
       "    </tr>\n",
       "  </tbody>\n",
       "</table>\n",
       "</div>"
      ],
      "text/plain": [
       "   userId  movieId  rating           title\n",
       "0       1        2     3.5  Jumanji (1995)\n",
       "1       5        2     3.0  Jumanji (1995)\n",
       "2      13        2     3.0  Jumanji (1995)\n",
       "3      29        2     3.0  Jumanji (1995)\n",
       "4      34        2     3.0  Jumanji (1995)"
      ]
     },
     "execution_count": 249,
     "metadata": {},
     "output_type": "execute_result"
    }
   ],
   "source": [
    "ratings.head()"
   ]
  },
  {
   "cell_type": "code",
   "execution_count": 253,
   "metadata": {},
   "outputs": [],
   "source": [
    "def check_system(Id,movieId,limit,df=ratings,userId='userId',algo=algo):\n",
    "    '''\n",
    "    This function checks the predicted rating against ratings made by the user\n",
    "    And takes in an int UserId (Id)\n",
    "    an int limit (the number of movies returned)\n",
    "    dataframe columns necessary (movieId, userId)\n",
    "    a dataframe of ratings (df)\n",
    "    an algorithm (algo)\n",
    "    '''\n",
    "    # Isolates necessary columns from the dataframe\n",
    "    df = df[[movieId,userId,'rating']]\n",
    "    \n",
    "    # Takes a subsample of the user's ratings\n",
    "    user_df = df[df['userId'] == Id]\n",
    "    if user_df.shape[0] >= df[userId].value_counts().mean():\n",
    "        user_df = user_df.sample(frac=.10)\n",
    "    else:\n",
    "        user_df = user_df.sample(frac=.50)\n",
    "\n",
    "    # Builds the dataframe to be returned     \n",
    "    user_df['est'] = user_df['movieId'].apply(lambda x: round(algo.predict(Id,x).est,2))\n",
    "    user_df['error'] = user_df['est']-user_df['rating']\n",
    "    user_df['avg_error'] = user_df['error'].mean()\n",
    "    \n",
    "    # Returns a dataframe dependent on what the limit is set to\n",
    "    if limit == None:\n",
    "        user_df = pd.merge(user_df,movies_df,on=movieId)\n",
    "        return user_df[[userId,movieId,'title','rating','est','error','avg_error']]\n",
    "    else:\n",
    "        if limit >= user_df.shape[0]:\n",
    "            user_df = pd.merge(user_df,movies_df,on=movieId)\n",
    "            return user_df[[userId,movieId,'title','rating','est','error','avg_error']]\n",
    "        else:\n",
    "            user_df = user_df.head(limit)\n",
    "            user_df = pd.merge(user_df,movies_df,on=movieId)\n",
    "            return user_df[[userId,movieId,'title','rating','est','error','avg_error']]"
   ]
  },
  {
   "cell_type": "code",
   "execution_count": 268,
   "metadata": {},
   "outputs": [
    {
     "data": {
      "text/plain": [
       "count    138485.000000\n",
       "mean         58.363772\n",
       "std         107.260209\n",
       "min           1.000000\n",
       "25%          13.000000\n",
       "50%          25.000000\n",
       "75%          59.000000\n",
       "max        4378.000000\n",
       "Name: userId, dtype: float64"
      ]
     },
     "execution_count": 268,
     "metadata": {},
     "output_type": "execute_result"
    }
   ],
   "source": [
    "alt_ratings['userId'].value_counts().describe()"
   ]
  },
  {
   "cell_type": "code",
   "execution_count": 269,
   "metadata": {},
   "outputs": [
    {
     "data": {
      "text/plain": [
       "count    138493.000000\n",
       "mean        144.413530\n",
       "std         230.267257\n",
       "min          20.000000\n",
       "25%          35.000000\n",
       "50%          68.000000\n",
       "75%         155.000000\n",
       "max        9254.000000\n",
       "Name: userId, dtype: float64"
      ]
     },
     "execution_count": 269,
     "metadata": {},
     "output_type": "execute_result"
    }
   ],
   "source": [
    "ratings['userId'].value_counts().describe()"
   ]
  },
  {
   "cell_type": "markdown",
   "metadata": {},
   "source": [
    "I want to look at how predictions turn out for users who have:\n",
    "\n",
    "1. Rated lots of movies (large data to pull from)\n",
    "2. Rated an average number of movies\n",
    "3. Rated few movies (in the 25th percentile)"
   ]
  },
  {
   "cell_type": "markdown",
   "metadata": {},
   "source": [
    "### Checking the ground truth for a user with max ratings (9254 ratings)\n",
    "\n",
    "User 118205 rated a whopping 9254 movies."
   ]
  },
  {
   "cell_type": "code",
   "execution_count": 271,
   "metadata": {
    "scrolled": true
   },
   "outputs": [
    {
     "data": {
      "text/html": [
       "<div>\n",
       "<style scoped>\n",
       "    .dataframe tbody tr th:only-of-type {\n",
       "        vertical-align: middle;\n",
       "    }\n",
       "\n",
       "    .dataframe tbody tr th {\n",
       "        vertical-align: top;\n",
       "    }\n",
       "\n",
       "    .dataframe thead th {\n",
       "        text-align: right;\n",
       "    }\n",
       "</style>\n",
       "<table border=\"1\" class=\"dataframe\">\n",
       "  <thead>\n",
       "    <tr style=\"text-align: right;\">\n",
       "      <th></th>\n",
       "      <th>userId</th>\n",
       "      <th>movieId</th>\n",
       "      <th>title</th>\n",
       "      <th>rating</th>\n",
       "      <th>est</th>\n",
       "      <th>error</th>\n",
       "      <th>avg_error</th>\n",
       "    </tr>\n",
       "  </thead>\n",
       "  <tbody>\n",
       "    <tr>\n",
       "      <th>0</th>\n",
       "      <td>118205</td>\n",
       "      <td>4606</td>\n",
       "      <td>Immediate Family (1989)</td>\n",
       "      <td>3.0</td>\n",
       "      <td>3.13</td>\n",
       "      <td>0.13</td>\n",
       "      <td>-0.001189</td>\n",
       "    </tr>\n",
       "    <tr>\n",
       "      <th>1</th>\n",
       "      <td>118205</td>\n",
       "      <td>494</td>\n",
       "      <td>Executive Decision (1996)</td>\n",
       "      <td>4.0</td>\n",
       "      <td>3.30</td>\n",
       "      <td>-0.70</td>\n",
       "      <td>-0.001189</td>\n",
       "    </tr>\n",
       "    <tr>\n",
       "      <th>2</th>\n",
       "      <td>118205</td>\n",
       "      <td>5962</td>\n",
       "      <td>Body of Evidence (1993)</td>\n",
       "      <td>2.5</td>\n",
       "      <td>2.38</td>\n",
       "      <td>-0.12</td>\n",
       "      <td>-0.001189</td>\n",
       "    </tr>\n",
       "    <tr>\n",
       "      <th>3</th>\n",
       "      <td>118205</td>\n",
       "      <td>3315</td>\n",
       "      <td>Happy Go Lovely (1951)</td>\n",
       "      <td>3.0</td>\n",
       "      <td>2.87</td>\n",
       "      <td>-0.13</td>\n",
       "      <td>-0.001189</td>\n",
       "    </tr>\n",
       "    <tr>\n",
       "      <th>4</th>\n",
       "      <td>118205</td>\n",
       "      <td>33905</td>\n",
       "      <td>Somebody Up There Likes Me (1956)</td>\n",
       "      <td>3.5</td>\n",
       "      <td>3.55</td>\n",
       "      <td>0.05</td>\n",
       "      <td>-0.001189</td>\n",
       "    </tr>\n",
       "    <tr>\n",
       "      <th>5</th>\n",
       "      <td>118205</td>\n",
       "      <td>305</td>\n",
       "      <td>Ready to Wear (Pret-A-Porter) (1994)</td>\n",
       "      <td>3.5</td>\n",
       "      <td>2.63</td>\n",
       "      <td>-0.87</td>\n",
       "      <td>-0.001189</td>\n",
       "    </tr>\n",
       "    <tr>\n",
       "      <th>6</th>\n",
       "      <td>118205</td>\n",
       "      <td>5169</td>\n",
       "      <td>Scarlet Street (1945)</td>\n",
       "      <td>4.0</td>\n",
       "      <td>3.73</td>\n",
       "      <td>-0.27</td>\n",
       "      <td>-0.001189</td>\n",
       "    </tr>\n",
       "    <tr>\n",
       "      <th>7</th>\n",
       "      <td>118205</td>\n",
       "      <td>112672</td>\n",
       "      <td>Bullet for a Badman (Renegade Posse) (1964)</td>\n",
       "      <td>3.0</td>\n",
       "      <td>3.30</td>\n",
       "      <td>0.30</td>\n",
       "      <td>-0.001189</td>\n",
       "    </tr>\n",
       "    <tr>\n",
       "      <th>8</th>\n",
       "      <td>118205</td>\n",
       "      <td>5607</td>\n",
       "      <td>Son of the Bride (Hijo de la novia, El) (2001)</td>\n",
       "      <td>4.0</td>\n",
       "      <td>3.85</td>\n",
       "      <td>-0.15</td>\n",
       "      <td>-0.001189</td>\n",
       "    </tr>\n",
       "    <tr>\n",
       "      <th>9</th>\n",
       "      <td>118205</td>\n",
       "      <td>6733</td>\n",
       "      <td>I'm Going Home (Je rentre à la maison) (2001)</td>\n",
       "      <td>3.0</td>\n",
       "      <td>3.34</td>\n",
       "      <td>0.34</td>\n",
       "      <td>-0.001189</td>\n",
       "    </tr>\n",
       "  </tbody>\n",
       "</table>\n",
       "</div>"
      ],
      "text/plain": [
       "   userId  movieId                                           title  rating  \\\n",
       "0  118205     4606                         Immediate Family (1989)     3.0   \n",
       "1  118205      494                       Executive Decision (1996)     4.0   \n",
       "2  118205     5962                         Body of Evidence (1993)     2.5   \n",
       "3  118205     3315                          Happy Go Lovely (1951)     3.0   \n",
       "4  118205    33905               Somebody Up There Likes Me (1956)     3.5   \n",
       "5  118205      305            Ready to Wear (Pret-A-Porter) (1994)     3.5   \n",
       "6  118205     5169                           Scarlet Street (1945)     4.0   \n",
       "7  118205   112672     Bullet for a Badman (Renegade Posse) (1964)     3.0   \n",
       "8  118205     5607  Son of the Bride (Hijo de la novia, El) (2001)     4.0   \n",
       "9  118205     6733   I'm Going Home (Je rentre à la maison) (2001)     3.0   \n",
       "\n",
       "    est  error  avg_error  \n",
       "0  3.13   0.13  -0.001189  \n",
       "1  3.30  -0.70  -0.001189  \n",
       "2  2.38  -0.12  -0.001189  \n",
       "3  2.87  -0.13  -0.001189  \n",
       "4  3.55   0.05  -0.001189  \n",
       "5  2.63  -0.87  -0.001189  \n",
       "6  3.73  -0.27  -0.001189  \n",
       "7  3.30   0.30  -0.001189  \n",
       "8  3.85  -0.15  -0.001189  \n",
       "9  3.34   0.34  -0.001189  "
      ]
     },
     "execution_count": 271,
     "metadata": {},
     "output_type": "execute_result"
    }
   ],
   "source": [
    "# Get 10 ratings from this user\n",
    "\n",
    "check_system(118205, 'movieId', 10)"
   ]
  },
  {
   "cell_type": "markdown",
   "metadata": {},
   "source": [
    "### Checking the ground truth for a user who rated an average number of movies (144 ratings)\n"
   ]
  },
  {
   "cell_type": "code",
   "execution_count": 277,
   "metadata": {},
   "outputs": [
    {
     "data": {
      "text/html": [
       "<div>\n",
       "<style scoped>\n",
       "    .dataframe tbody tr th:only-of-type {\n",
       "        vertical-align: middle;\n",
       "    }\n",
       "\n",
       "    .dataframe tbody tr th {\n",
       "        vertical-align: top;\n",
       "    }\n",
       "\n",
       "    .dataframe thead th {\n",
       "        text-align: right;\n",
       "    }\n",
       "</style>\n",
       "<table border=\"1\" class=\"dataframe\">\n",
       "  <thead>\n",
       "    <tr style=\"text-align: right;\">\n",
       "      <th></th>\n",
       "      <th>movieId</th>\n",
       "      <th>rating</th>\n",
       "      <th>count</th>\n",
       "    </tr>\n",
       "    <tr>\n",
       "      <th>userId</th>\n",
       "      <th></th>\n",
       "      <th></th>\n",
       "      <th></th>\n",
       "    </tr>\n",
       "  </thead>\n",
       "  <tbody>\n",
       "    <tr>\n",
       "      <th>1250</th>\n",
       "      <td>154925</td>\n",
       "      <td>528.0</td>\n",
       "      <td>144</td>\n",
       "    </tr>\n",
       "  </tbody>\n",
       "</table>\n",
       "</div>"
      ],
      "text/plain": [
       "        movieId  rating  count\n",
       "userId                        \n",
       "1250     154925   528.0    144"
      ]
     },
     "execution_count": 277,
     "metadata": {},
     "output_type": "execute_result"
    }
   ],
   "source": [
    "# ok find the user\n",
    "\n",
    "find_user = ratings.copy()\n",
    "find_user['count'] = 1\n",
    "find_user = find_user.groupby('userId').sum()\n",
    "find_user[find_user['count'] == 144].head(1)"
   ]
  },
  {
   "cell_type": "markdown",
   "metadata": {},
   "source": [
    "Lucky user 1250 has rated 144 movies, let's see how the algorithm does."
   ]
  },
  {
   "cell_type": "code",
   "execution_count": 278,
   "metadata": {
    "scrolled": true
   },
   "outputs": [
    {
     "data": {
      "text/html": [
       "<div>\n",
       "<style scoped>\n",
       "    .dataframe tbody tr th:only-of-type {\n",
       "        vertical-align: middle;\n",
       "    }\n",
       "\n",
       "    .dataframe tbody tr th {\n",
       "        vertical-align: top;\n",
       "    }\n",
       "\n",
       "    .dataframe thead th {\n",
       "        text-align: right;\n",
       "    }\n",
       "</style>\n",
       "<table border=\"1\" class=\"dataframe\">\n",
       "  <thead>\n",
       "    <tr style=\"text-align: right;\">\n",
       "      <th></th>\n",
       "      <th>userId</th>\n",
       "      <th>movieId</th>\n",
       "      <th>title</th>\n",
       "      <th>rating</th>\n",
       "      <th>est</th>\n",
       "      <th>error</th>\n",
       "      <th>avg_error</th>\n",
       "    </tr>\n",
       "  </thead>\n",
       "  <tbody>\n",
       "    <tr>\n",
       "      <th>0</th>\n",
       "      <td>1250</td>\n",
       "      <td>477</td>\n",
       "      <td>What's Love Got to Do with It? (1993)</td>\n",
       "      <td>4.0</td>\n",
       "      <td>3.64</td>\n",
       "      <td>-0.36</td>\n",
       "      <td>0.001111</td>\n",
       "    </tr>\n",
       "    <tr>\n",
       "      <th>1</th>\n",
       "      <td>1250</td>\n",
       "      <td>253</td>\n",
       "      <td>Interview with the Vampire: The Vampire Chroni...</td>\n",
       "      <td>3.0</td>\n",
       "      <td>3.45</td>\n",
       "      <td>0.45</td>\n",
       "      <td>0.001111</td>\n",
       "    </tr>\n",
       "    <tr>\n",
       "      <th>2</th>\n",
       "      <td>1250</td>\n",
       "      <td>1408</td>\n",
       "      <td>Last of the Mohicans, The (1992)</td>\n",
       "      <td>5.0</td>\n",
       "      <td>3.72</td>\n",
       "      <td>-1.28</td>\n",
       "      <td>0.001111</td>\n",
       "    </tr>\n",
       "    <tr>\n",
       "      <th>3</th>\n",
       "      <td>1250</td>\n",
       "      <td>1721</td>\n",
       "      <td>Titanic (1997)</td>\n",
       "      <td>4.0</td>\n",
       "      <td>3.66</td>\n",
       "      <td>-0.34</td>\n",
       "      <td>0.001111</td>\n",
       "    </tr>\n",
       "    <tr>\n",
       "      <th>4</th>\n",
       "      <td>1250</td>\n",
       "      <td>1624</td>\n",
       "      <td>Thousand Acres, A (1997)</td>\n",
       "      <td>2.0</td>\n",
       "      <td>3.13</td>\n",
       "      <td>1.13</td>\n",
       "      <td>0.001111</td>\n",
       "    </tr>\n",
       "    <tr>\n",
       "      <th>5</th>\n",
       "      <td>1250</td>\n",
       "      <td>110</td>\n",
       "      <td>Braveheart (1995)</td>\n",
       "      <td>5.0</td>\n",
       "      <td>4.38</td>\n",
       "      <td>-0.62</td>\n",
       "      <td>0.001111</td>\n",
       "    </tr>\n",
       "    <tr>\n",
       "      <th>6</th>\n",
       "      <td>1250</td>\n",
       "      <td>524</td>\n",
       "      <td>Rudy (1993)</td>\n",
       "      <td>3.0</td>\n",
       "      <td>3.63</td>\n",
       "      <td>0.63</td>\n",
       "      <td>0.001111</td>\n",
       "    </tr>\n",
       "    <tr>\n",
       "      <th>7</th>\n",
       "      <td>1250</td>\n",
       "      <td>838</td>\n",
       "      <td>Emma (1996)</td>\n",
       "      <td>4.0</td>\n",
       "      <td>4.00</td>\n",
       "      <td>0.00</td>\n",
       "      <td>0.001111</td>\n",
       "    </tr>\n",
       "    <tr>\n",
       "      <th>8</th>\n",
       "      <td>1250</td>\n",
       "      <td>153</td>\n",
       "      <td>Batman Forever (1995)</td>\n",
       "      <td>3.0</td>\n",
       "      <td>3.12</td>\n",
       "      <td>0.12</td>\n",
       "      <td>0.001111</td>\n",
       "    </tr>\n",
       "    <tr>\n",
       "      <th>9</th>\n",
       "      <td>1250</td>\n",
       "      <td>2</td>\n",
       "      <td>Jumanji (1995)</td>\n",
       "      <td>4.0</td>\n",
       "      <td>3.53</td>\n",
       "      <td>-0.47</td>\n",
       "      <td>0.001111</td>\n",
       "    </tr>\n",
       "  </tbody>\n",
       "</table>\n",
       "</div>"
      ],
      "text/plain": [
       "   userId  movieId                                              title  rating  \\\n",
       "0    1250      477              What's Love Got to Do with It? (1993)     4.0   \n",
       "1    1250      253  Interview with the Vampire: The Vampire Chroni...     3.0   \n",
       "2    1250     1408                   Last of the Mohicans, The (1992)     5.0   \n",
       "3    1250     1721                                     Titanic (1997)     4.0   \n",
       "4    1250     1624                           Thousand Acres, A (1997)     2.0   \n",
       "5    1250      110                                  Braveheart (1995)     5.0   \n",
       "6    1250      524                                        Rudy (1993)     3.0   \n",
       "7    1250      838                                        Emma (1996)     4.0   \n",
       "8    1250      153                              Batman Forever (1995)     3.0   \n",
       "9    1250        2                                     Jumanji (1995)     4.0   \n",
       "\n",
       "    est  error  avg_error  \n",
       "0  3.64  -0.36   0.001111  \n",
       "1  3.45   0.45   0.001111  \n",
       "2  3.72  -1.28   0.001111  \n",
       "3  3.66  -0.34   0.001111  \n",
       "4  3.13   1.13   0.001111  \n",
       "5  4.38  -0.62   0.001111  \n",
       "6  3.63   0.63   0.001111  \n",
       "7  4.00   0.00   0.001111  \n",
       "8  3.12   0.12   0.001111  \n",
       "9  3.53  -0.47   0.001111  "
      ]
     },
     "execution_count": 278,
     "metadata": {},
     "output_type": "execute_result"
    }
   ],
   "source": [
    "check_system(1250, 'movieId', 10)"
   ]
  },
  {
   "cell_type": "markdown",
   "metadata": {},
   "source": [
    "### Checking the ground truth for a user who rated a below-average number of movies (35 ratings)\n"
   ]
  },
  {
   "cell_type": "code",
   "execution_count": 279,
   "metadata": {},
   "outputs": [
    {
     "data": {
      "text/html": [
       "<div>\n",
       "<style scoped>\n",
       "    .dataframe tbody tr th:only-of-type {\n",
       "        vertical-align: middle;\n",
       "    }\n",
       "\n",
       "    .dataframe tbody tr th {\n",
       "        vertical-align: top;\n",
       "    }\n",
       "\n",
       "    .dataframe thead th {\n",
       "        text-align: right;\n",
       "    }\n",
       "</style>\n",
       "<table border=\"1\" class=\"dataframe\">\n",
       "  <thead>\n",
       "    <tr style=\"text-align: right;\">\n",
       "      <th></th>\n",
       "      <th>movieId</th>\n",
       "      <th>rating</th>\n",
       "      <th>count</th>\n",
       "    </tr>\n",
       "    <tr>\n",
       "      <th>userId</th>\n",
       "      <th></th>\n",
       "      <th></th>\n",
       "      <th></th>\n",
       "    </tr>\n",
       "  </thead>\n",
       "  <tbody>\n",
       "    <tr>\n",
       "      <th>9</th>\n",
       "      <td>111501</td>\n",
       "      <td>107.0</td>\n",
       "      <td>35</td>\n",
       "    </tr>\n",
       "  </tbody>\n",
       "</table>\n",
       "</div>"
      ],
      "text/plain": [
       "        movieId  rating  count\n",
       "userId                        \n",
       "9        111501   107.0     35"
      ]
     },
     "execution_count": 279,
     "metadata": {},
     "output_type": "execute_result"
    }
   ],
   "source": [
    "# find them\n",
    "\n",
    "find_user = ratings.copy()\n",
    "find_user['count'] = 1\n",
    "find_user = find_user.groupby('userId').sum()\n",
    "find_user[find_user['count'] == 35].head(1)"
   ]
  },
  {
   "cell_type": "markdown",
   "metadata": {},
   "source": [
    "User number 9 has rated 35 movies, let's see how our algorithm does with them!"
   ]
  },
  {
   "cell_type": "code",
   "execution_count": 280,
   "metadata": {
    "scrolled": true
   },
   "outputs": [
    {
     "data": {
      "text/html": [
       "<div>\n",
       "<style scoped>\n",
       "    .dataframe tbody tr th:only-of-type {\n",
       "        vertical-align: middle;\n",
       "    }\n",
       "\n",
       "    .dataframe tbody tr th {\n",
       "        vertical-align: top;\n",
       "    }\n",
       "\n",
       "    .dataframe thead th {\n",
       "        text-align: right;\n",
       "    }\n",
       "</style>\n",
       "<table border=\"1\" class=\"dataframe\">\n",
       "  <thead>\n",
       "    <tr style=\"text-align: right;\">\n",
       "      <th></th>\n",
       "      <th>userId</th>\n",
       "      <th>movieId</th>\n",
       "      <th>title</th>\n",
       "      <th>rating</th>\n",
       "      <th>est</th>\n",
       "      <th>error</th>\n",
       "      <th>avg_error</th>\n",
       "    </tr>\n",
       "  </thead>\n",
       "  <tbody>\n",
       "    <tr>\n",
       "      <th>0</th>\n",
       "      <td>9</td>\n",
       "      <td>1219</td>\n",
       "      <td>Psycho (1960)</td>\n",
       "      <td>3.0</td>\n",
       "      <td>3.63</td>\n",
       "      <td>0.63</td>\n",
       "      <td>0.011667</td>\n",
       "    </tr>\n",
       "    <tr>\n",
       "      <th>1</th>\n",
       "      <td>9</td>\n",
       "      <td>3994</td>\n",
       "      <td>Unbreakable (2000)</td>\n",
       "      <td>3.0</td>\n",
       "      <td>3.44</td>\n",
       "      <td>0.44</td>\n",
       "      <td>0.011667</td>\n",
       "    </tr>\n",
       "    <tr>\n",
       "      <th>2</th>\n",
       "      <td>9</td>\n",
       "      <td>4148</td>\n",
       "      <td>Hannibal (2001)</td>\n",
       "      <td>5.0</td>\n",
       "      <td>3.48</td>\n",
       "      <td>-1.52</td>\n",
       "      <td>0.011667</td>\n",
       "    </tr>\n",
       "    <tr>\n",
       "      <th>3</th>\n",
       "      <td>9</td>\n",
       "      <td>4030</td>\n",
       "      <td>Dracula 2000 (2000)</td>\n",
       "      <td>2.0</td>\n",
       "      <td>2.70</td>\n",
       "      <td>0.70</td>\n",
       "      <td>0.011667</td>\n",
       "    </tr>\n",
       "    <tr>\n",
       "      <th>4</th>\n",
       "      <td>9</td>\n",
       "      <td>356</td>\n",
       "      <td>Forrest Gump (1994)</td>\n",
       "      <td>4.0</td>\n",
       "      <td>3.95</td>\n",
       "      <td>-0.05</td>\n",
       "      <td>0.011667</td>\n",
       "    </tr>\n",
       "    <tr>\n",
       "      <th>5</th>\n",
       "      <td>9</td>\n",
       "      <td>3979</td>\n",
       "      <td>Little Nicky (2000)</td>\n",
       "      <td>3.0</td>\n",
       "      <td>2.31</td>\n",
       "      <td>-0.69</td>\n",
       "      <td>0.011667</td>\n",
       "    </tr>\n",
       "    <tr>\n",
       "      <th>6</th>\n",
       "      <td>9</td>\n",
       "      <td>2706</td>\n",
       "      <td>American Pie (1999)</td>\n",
       "      <td>4.0</td>\n",
       "      <td>3.17</td>\n",
       "      <td>-0.83</td>\n",
       "      <td>0.011667</td>\n",
       "    </tr>\n",
       "    <tr>\n",
       "      <th>7</th>\n",
       "      <td>9</td>\n",
       "      <td>2840</td>\n",
       "      <td>Stigmata (1999)</td>\n",
       "      <td>3.0</td>\n",
       "      <td>3.20</td>\n",
       "      <td>0.20</td>\n",
       "      <td>0.011667</td>\n",
       "    </tr>\n",
       "    <tr>\n",
       "      <th>8</th>\n",
       "      <td>9</td>\n",
       "      <td>4034</td>\n",
       "      <td>Traffic (2000)</td>\n",
       "      <td>1.0</td>\n",
       "      <td>3.52</td>\n",
       "      <td>2.52</td>\n",
       "      <td>0.011667</td>\n",
       "    </tr>\n",
       "    <tr>\n",
       "      <th>9</th>\n",
       "      <td>9</td>\n",
       "      <td>3798</td>\n",
       "      <td>What Lies Beneath (2000)</td>\n",
       "      <td>5.0</td>\n",
       "      <td>3.60</td>\n",
       "      <td>-1.40</td>\n",
       "      <td>0.011667</td>\n",
       "    </tr>\n",
       "  </tbody>\n",
       "</table>\n",
       "</div>"
      ],
      "text/plain": [
       "   userId  movieId                     title  rating   est  error  avg_error\n",
       "0       9     1219             Psycho (1960)     3.0  3.63   0.63   0.011667\n",
       "1       9     3994        Unbreakable (2000)     3.0  3.44   0.44   0.011667\n",
       "2       9     4148           Hannibal (2001)     5.0  3.48  -1.52   0.011667\n",
       "3       9     4030       Dracula 2000 (2000)     2.0  2.70   0.70   0.011667\n",
       "4       9      356       Forrest Gump (1994)     4.0  3.95  -0.05   0.011667\n",
       "5       9     3979       Little Nicky (2000)     3.0  2.31  -0.69   0.011667\n",
       "6       9     2706       American Pie (1999)     4.0  3.17  -0.83   0.011667\n",
       "7       9     2840           Stigmata (1999)     3.0  3.20   0.20   0.011667\n",
       "8       9     4034            Traffic (2000)     1.0  3.52   2.52   0.011667\n",
       "9       9     3798  What Lies Beneath (2000)     5.0  3.60  -1.40   0.011667"
      ]
     },
     "execution_count": 280,
     "metadata": {},
     "output_type": "execute_result"
    }
   ],
   "source": [
    "check_system(9, 'movieId', 10)"
   ]
  },
  {
   "cell_type": "code",
   "execution_count": null,
   "metadata": {},
   "outputs": [],
   "source": []
  },
  {
   "cell_type": "code",
   "execution_count": 168,
   "metadata": {},
   "outputs": [
    {
     "data": {
      "text/html": [
       "<div>\n",
       "<style scoped>\n",
       "    .dataframe tbody tr th:only-of-type {\n",
       "        vertical-align: middle;\n",
       "    }\n",
       "\n",
       "    .dataframe tbody tr th {\n",
       "        vertical-align: top;\n",
       "    }\n",
       "\n",
       "    .dataframe thead th {\n",
       "        text-align: right;\n",
       "    }\n",
       "</style>\n",
       "<table border=\"1\" class=\"dataframe\">\n",
       "  <thead>\n",
       "    <tr style=\"text-align: right;\">\n",
       "      <th></th>\n",
       "      <th>movieId</th>\n",
       "      <th>title</th>\n",
       "    </tr>\n",
       "  </thead>\n",
       "  <tbody>\n",
       "    <tr>\n",
       "      <th>0</th>\n",
       "      <td>1</td>\n",
       "      <td>Toy Story (1995)</td>\n",
       "    </tr>\n",
       "    <tr>\n",
       "      <th>1</th>\n",
       "      <td>2</td>\n",
       "      <td>Jumanji (1995)</td>\n",
       "    </tr>\n",
       "    <tr>\n",
       "      <th>2</th>\n",
       "      <td>3</td>\n",
       "      <td>Grumpier Old Men (1995)</td>\n",
       "    </tr>\n",
       "    <tr>\n",
       "      <th>3</th>\n",
       "      <td>4</td>\n",
       "      <td>Waiting to Exhale (1995)</td>\n",
       "    </tr>\n",
       "    <tr>\n",
       "      <th>4</th>\n",
       "      <td>5</td>\n",
       "      <td>Father of the Bride Part II (1995)</td>\n",
       "    </tr>\n",
       "  </tbody>\n",
       "</table>\n",
       "</div>"
      ],
      "text/plain": [
       "   movieId                               title\n",
       "0        1                    Toy Story (1995)\n",
       "1        2                      Jumanji (1995)\n",
       "2        3             Grumpier Old Men (1995)\n",
       "3        4            Waiting to Exhale (1995)\n",
       "4        5  Father of the Bride Part II (1995)"
      ]
     },
     "execution_count": 168,
     "metadata": {},
     "output_type": "execute_result"
    }
   ],
   "source": [
    "movies_df = pd.read_csv('/Users/user/movielens-20m-dataset/movie.csv')\n",
    "movies_df = movies_df[['movieId','title']]\n",
    "movies_df.head()"
   ]
  },
  {
   "cell_type": "markdown",
   "metadata": {},
   "source": [
    "## Predicting ratings"
   ]
  },
  {
   "cell_type": "code",
   "execution_count": 281,
   "metadata": {},
   "outputs": [],
   "source": [
    "def predict_ratings(Id, movieId, n, df=ratings, userId='userId', algo=algo):\n",
    "    # Select some random movies from our set\n",
    "    df = df[[movieId,userId,'rating']]\n",
    "    movie_choices = df[movieId].unique()\n",
    "    movies = np.random.choice(movie_choices,n)\n",
    "    \n",
    "    # Build the dataframe that we'll return\n",
    "    predicted_df = pd.DataFrame()\n",
    "    predicted_df['movieId'] = movies\n",
    "    predicted_df['userId'] = Id\n",
    "    \n",
    "    predicted_df['est'] = predicted_df['movieId'].apply(lambda x: round(algo.predict(Id,x).est,2))\n",
    "    \n",
    "    # Grabbing the titles\n",
    "    predicted_df = pd.merge(predicted_df,movies_df,on='movieId')\n",
    "    \n",
    "    \n",
    "    return predicted_df[[userId,movieId,'title','est']]"
   ]
  },
  {
   "cell_type": "code",
   "execution_count": 283,
   "metadata": {},
   "outputs": [
    {
     "data": {
      "text/html": [
       "<div>\n",
       "<style scoped>\n",
       "    .dataframe tbody tr th:only-of-type {\n",
       "        vertical-align: middle;\n",
       "    }\n",
       "\n",
       "    .dataframe tbody tr th {\n",
       "        vertical-align: top;\n",
       "    }\n",
       "\n",
       "    .dataframe thead th {\n",
       "        text-align: right;\n",
       "    }\n",
       "</style>\n",
       "<table border=\"1\" class=\"dataframe\">\n",
       "  <thead>\n",
       "    <tr style=\"text-align: right;\">\n",
       "      <th></th>\n",
       "      <th>userId</th>\n",
       "      <th>movieId</th>\n",
       "      <th>title</th>\n",
       "      <th>est</th>\n",
       "    </tr>\n",
       "  </thead>\n",
       "  <tbody>\n",
       "    <tr>\n",
       "      <th>0</th>\n",
       "      <td>453</td>\n",
       "      <td>27095</td>\n",
       "      <td>Hole, The (Dong) (1998)</td>\n",
       "      <td>3.92</td>\n",
       "    </tr>\n",
       "    <tr>\n",
       "      <th>1</th>\n",
       "      <td>453</td>\n",
       "      <td>55036</td>\n",
       "      <td>Gotti (1996)</td>\n",
       "      <td>3.63</td>\n",
       "    </tr>\n",
       "    <tr>\n",
       "      <th>2</th>\n",
       "      <td>453</td>\n",
       "      <td>7264</td>\n",
       "      <td>An Amazing Couple (2002)</td>\n",
       "      <td>3.97</td>\n",
       "    </tr>\n",
       "    <tr>\n",
       "      <th>3</th>\n",
       "      <td>453</td>\n",
       "      <td>50613</td>\n",
       "      <td>Dead Meat (2004)</td>\n",
       "      <td>3.66</td>\n",
       "    </tr>\n",
       "    <tr>\n",
       "      <th>4</th>\n",
       "      <td>453</td>\n",
       "      <td>5412</td>\n",
       "      <td>Villain, The (1979)</td>\n",
       "      <td>3.08</td>\n",
       "    </tr>\n",
       "    <tr>\n",
       "      <th>5</th>\n",
       "      <td>453</td>\n",
       "      <td>77709</td>\n",
       "      <td>Sky Crawlers, The (Sukai kurora) (2008)</td>\n",
       "      <td>3.65</td>\n",
       "    </tr>\n",
       "    <tr>\n",
       "      <th>6</th>\n",
       "      <td>453</td>\n",
       "      <td>4835</td>\n",
       "      <td>Coal Miner's Daughter (1980)</td>\n",
       "      <td>4.02</td>\n",
       "    </tr>\n",
       "    <tr>\n",
       "      <th>7</th>\n",
       "      <td>453</td>\n",
       "      <td>95499</td>\n",
       "      <td>Dragon Ball Z: Broly - The Legendary Super Sai...</td>\n",
       "      <td>3.70</td>\n",
       "    </tr>\n",
       "    <tr>\n",
       "      <th>8</th>\n",
       "      <td>453</td>\n",
       "      <td>83177</td>\n",
       "      <td>Yogi Bear (2010)</td>\n",
       "      <td>2.71</td>\n",
       "    </tr>\n",
       "    <tr>\n",
       "      <th>9</th>\n",
       "      <td>453</td>\n",
       "      <td>25879</td>\n",
       "      <td>All Through the Night (1941)</td>\n",
       "      <td>3.74</td>\n",
       "    </tr>\n",
       "  </tbody>\n",
       "</table>\n",
       "</div>"
      ],
      "text/plain": [
       "   userId  movieId                                              title   est\n",
       "0     453    27095                            Hole, The (Dong) (1998)  3.92\n",
       "1     453    55036                                       Gotti (1996)  3.63\n",
       "2     453     7264                           An Amazing Couple (2002)  3.97\n",
       "3     453    50613                                   Dead Meat (2004)  3.66\n",
       "4     453     5412                                Villain, The (1979)  3.08\n",
       "5     453    77709            Sky Crawlers, The (Sukai kurora) (2008)  3.65\n",
       "6     453     4835                       Coal Miner's Daughter (1980)  4.02\n",
       "7     453    95499  Dragon Ball Z: Broly - The Legendary Super Sai...  3.70\n",
       "8     453    83177                                   Yogi Bear (2010)  2.71\n",
       "9     453    25879                       All Through the Night (1941)  3.74"
      ]
     },
     "execution_count": 283,
     "metadata": {},
     "output_type": "execute_result"
    }
   ],
   "source": [
    "predict_ratings(453,'movieId',10)"
   ]
  },
  {
   "cell_type": "code",
   "execution_count": 309,
   "metadata": {},
   "outputs": [],
   "source": [
    "def predicted_top_n(Id, movieId, n, samples, df=ratings, userId='userId', algo=algo):\n",
    "    '''\n",
    "    This function returns n movies, sorted by predicted user rating, from a random sample of movies. \n",
    "    '''\n",
    "    df = df[[movieId,userId,'rating']]\n",
    "\n",
    "    movie_choices = df[movieId].unique()\n",
    "    \n",
    "    # Take out movies the user has already watched\n",
    "    temp_df = ratings[ratings[userId] == Id]\n",
    "    watched_movs = temp_df[movieId].unique()\n",
    "    unwatched = np.setdiff1d(movie_choices,movies_watched)\n",
    "    \n",
    "    # Select random movies according to 'samples'\n",
    "    if samples == None:\n",
    "        movies = unwatched\n",
    "        samples = movies.shape[0]\n",
    "    elif samples <= unwatched.shape[0]:\n",
    "         movies = np.random.choice(unwatched,samples)\n",
    "    else:\n",
    "        print(\"The sample size exceeds the available movies. Reset to {} movies\".format(unwatched.shape[0]))\n",
    "        movies = unwatched\n",
    "        samples = movies.shape[0]\n",
    "        \n",
    "    # Build the dataframe that we'll return\n",
    "    predicted_df = pd.DataFrame()\n",
    "    predicted_df[movieId] = movies\n",
    "    predicted_df[userId] = Id\n",
    "    predicted_df['est'] = predicted_df[movieId].apply(lambda x: round(algo.predict(Id,x).est,2))\n",
    "    predicted_df = predicted_df.sort_values(by='est', ascending=False)\n",
    "    \n",
    "    if n >= samples:\n",
    "        predicted_df = pd.merge(predicted_df,movies_df,on=movieId)\n",
    "        return predicted_df[[userId,'title','est']]\n",
    "    else:\n",
    "        predicted_df = predicted_df.head(n)\n",
    "        predicted_df = pd.merge(predicted_df,movies_df,on=movieId)\n",
    "        return predicted_df[[userId,'title','est']]"
   ]
  },
  {
   "cell_type": "markdown",
   "metadata": {},
   "source": [
    "# Recommending unwatched movies\n",
    "\n",
    "We wrote a function that does the following:\n",
    "\n",
    "1. Creates a filtered list of movies that the user in question hasn't rated (ie hasn't watched)\n",
    "2. The user is allowed to subsample a smaller set of movies if they want\n",
    "3. If the user does not do above, all movies in the set are considered\n",
    "4. A filtered dataframe is returned of unwatched movies and the user's estimated rating of the movie, sorted by the estimated rating\n",
    "5. The user chooses how many movies they want."
   ]
  },
  {
   "cell_type": "markdown",
   "metadata": {},
   "source": [
    "### Case 1: User with the most ratings (User 118205, 9254 ratings)"
   ]
  },
  {
   "cell_type": "code",
   "execution_count": 310,
   "metadata": {},
   "outputs": [
    {
     "data": {
      "text/html": [
       "<div>\n",
       "<style scoped>\n",
       "    .dataframe tbody tr th:only-of-type {\n",
       "        vertical-align: middle;\n",
       "    }\n",
       "\n",
       "    .dataframe tbody tr th {\n",
       "        vertical-align: top;\n",
       "    }\n",
       "\n",
       "    .dataframe thead th {\n",
       "        text-align: right;\n",
       "    }\n",
       "</style>\n",
       "<table border=\"1\" class=\"dataframe\">\n",
       "  <thead>\n",
       "    <tr style=\"text-align: right;\">\n",
       "      <th></th>\n",
       "      <th>userId</th>\n",
       "      <th>title</th>\n",
       "      <th>est</th>\n",
       "    </tr>\n",
       "  </thead>\n",
       "  <tbody>\n",
       "    <tr>\n",
       "      <th>0</th>\n",
       "      <td>118205</td>\n",
       "      <td>Frozen Planet (2011)</td>\n",
       "      <td>4.35</td>\n",
       "    </tr>\n",
       "    <tr>\n",
       "      <th>1</th>\n",
       "      <td>118205</td>\n",
       "      <td>Civil War, The (1990)</td>\n",
       "      <td>4.28</td>\n",
       "    </tr>\n",
       "    <tr>\n",
       "      <th>2</th>\n",
       "      <td>118205</td>\n",
       "      <td>North &amp; South (2004)</td>\n",
       "      <td>4.27</td>\n",
       "    </tr>\n",
       "    <tr>\n",
       "      <th>3</th>\n",
       "      <td>118205</td>\n",
       "      <td>Godfather, The (1972)</td>\n",
       "      <td>4.23</td>\n",
       "    </tr>\n",
       "    <tr>\n",
       "      <th>4</th>\n",
       "      <td>118205</td>\n",
       "      <td>Death on the Staircase (Soupçons) (2004)</td>\n",
       "      <td>4.19</td>\n",
       "    </tr>\n",
       "    <tr>\n",
       "      <th>5</th>\n",
       "      <td>118205</td>\n",
       "      <td>Alone in the Wilderness (2004)</td>\n",
       "      <td>4.18</td>\n",
       "    </tr>\n",
       "    <tr>\n",
       "      <th>6</th>\n",
       "      <td>118205</td>\n",
       "      <td>Connections (1978)</td>\n",
       "      <td>4.18</td>\n",
       "    </tr>\n",
       "    <tr>\n",
       "      <th>7</th>\n",
       "      <td>118205</td>\n",
       "      <td>Prime Suspect (1991)</td>\n",
       "      <td>4.17</td>\n",
       "    </tr>\n",
       "    <tr>\n",
       "      <th>8</th>\n",
       "      <td>118205</td>\n",
       "      <td>Bill Hicks: Revelations (1993)</td>\n",
       "      <td>4.16</td>\n",
       "    </tr>\n",
       "    <tr>\n",
       "      <th>9</th>\n",
       "      <td>118205</td>\n",
       "      <td>Casablanca (1942)</td>\n",
       "      <td>4.16</td>\n",
       "    </tr>\n",
       "  </tbody>\n",
       "</table>\n",
       "</div>"
      ],
      "text/plain": [
       "   userId                                     title   est\n",
       "0  118205                      Frozen Planet (2011)  4.35\n",
       "1  118205                     Civil War, The (1990)  4.28\n",
       "2  118205                      North & South (2004)  4.27\n",
       "3  118205                     Godfather, The (1972)  4.23\n",
       "4  118205  Death on the Staircase (Soupçons) (2004)  4.19\n",
       "5  118205            Alone in the Wilderness (2004)  4.18\n",
       "6  118205                        Connections (1978)  4.18\n",
       "7  118205                      Prime Suspect (1991)  4.17\n",
       "8  118205            Bill Hicks: Revelations (1993)  4.16\n",
       "9  118205                         Casablanca (1942)  4.16"
      ]
     },
     "execution_count": 310,
     "metadata": {},
     "output_type": "execute_result"
    }
   ],
   "source": [
    "predicted_top_n(118205, 'movieId', 10, None)"
   ]
  },
  {
   "cell_type": "markdown",
   "metadata": {},
   "source": [
    "### Case 2: User with mean ratings (user 1250, 144 ratings)"
   ]
  },
  {
   "cell_type": "code",
   "execution_count": 311,
   "metadata": {},
   "outputs": [
    {
     "data": {
      "text/html": [
       "<div>\n",
       "<style scoped>\n",
       "    .dataframe tbody tr th:only-of-type {\n",
       "        vertical-align: middle;\n",
       "    }\n",
       "\n",
       "    .dataframe tbody tr th {\n",
       "        vertical-align: top;\n",
       "    }\n",
       "\n",
       "    .dataframe thead th {\n",
       "        text-align: right;\n",
       "    }\n",
       "</style>\n",
       "<table border=\"1\" class=\"dataframe\">\n",
       "  <thead>\n",
       "    <tr style=\"text-align: right;\">\n",
       "      <th></th>\n",
       "      <th>userId</th>\n",
       "      <th>title</th>\n",
       "      <th>est</th>\n",
       "    </tr>\n",
       "  </thead>\n",
       "  <tbody>\n",
       "    <tr>\n",
       "      <th>0</th>\n",
       "      <td>1250</td>\n",
       "      <td>Moulin Rouge (2001)</td>\n",
       "      <td>4.65</td>\n",
       "    </tr>\n",
       "    <tr>\n",
       "      <th>1</th>\n",
       "      <td>1250</td>\n",
       "      <td>Amelie (Fabuleux destin d'Amélie Poulain, Le) ...</td>\n",
       "      <td>4.64</td>\n",
       "    </tr>\n",
       "    <tr>\n",
       "      <th>2</th>\n",
       "      <td>1250</td>\n",
       "      <td>Life Is Beautiful (La Vita è bella) (1997)</td>\n",
       "      <td>4.63</td>\n",
       "    </tr>\n",
       "    <tr>\n",
       "      <th>3</th>\n",
       "      <td>1250</td>\n",
       "      <td>Boondock Saints, The (2000)</td>\n",
       "      <td>4.62</td>\n",
       "    </tr>\n",
       "    <tr>\n",
       "      <th>4</th>\n",
       "      <td>1250</td>\n",
       "      <td>Frozen Planet (2011)</td>\n",
       "      <td>4.57</td>\n",
       "    </tr>\n",
       "    <tr>\n",
       "      <th>5</th>\n",
       "      <td>1250</td>\n",
       "      <td>Interstellar (2014)</td>\n",
       "      <td>4.55</td>\n",
       "    </tr>\n",
       "    <tr>\n",
       "      <th>6</th>\n",
       "      <td>1250</td>\n",
       "      <td>Inception (2010)</td>\n",
       "      <td>4.53</td>\n",
       "    </tr>\n",
       "    <tr>\n",
       "      <th>7</th>\n",
       "      <td>1250</td>\n",
       "      <td>Bill Hicks: Revelations (1993)</td>\n",
       "      <td>4.53</td>\n",
       "    </tr>\n",
       "    <tr>\n",
       "      <th>8</th>\n",
       "      <td>1250</td>\n",
       "      <td>Black Mirror (2011)</td>\n",
       "      <td>4.52</td>\n",
       "    </tr>\n",
       "    <tr>\n",
       "      <th>9</th>\n",
       "      <td>1250</td>\n",
       "      <td>City of God (Cidade de Deus) (2002)</td>\n",
       "      <td>4.52</td>\n",
       "    </tr>\n",
       "  </tbody>\n",
       "</table>\n",
       "</div>"
      ],
      "text/plain": [
       "   userId                                              title   est\n",
       "0    1250                                Moulin Rouge (2001)  4.65\n",
       "1    1250  Amelie (Fabuleux destin d'Amélie Poulain, Le) ...  4.64\n",
       "2    1250         Life Is Beautiful (La Vita è bella) (1997)  4.63\n",
       "3    1250                        Boondock Saints, The (2000)  4.62\n",
       "4    1250                               Frozen Planet (2011)  4.57\n",
       "5    1250                                Interstellar (2014)  4.55\n",
       "6    1250                                   Inception (2010)  4.53\n",
       "7    1250                     Bill Hicks: Revelations (1993)  4.53\n",
       "8    1250                                Black Mirror (2011)  4.52\n",
       "9    1250                City of God (Cidade de Deus) (2002)  4.52"
      ]
     },
     "execution_count": 311,
     "metadata": {},
     "output_type": "execute_result"
    }
   ],
   "source": [
    "predicted_top_n(1250, 'movieId', 10, None)"
   ]
  },
  {
   "cell_type": "markdown",
   "metadata": {},
   "source": [
    "### Case 3: User with few ratings (User 9, 35 ratings)"
   ]
  },
  {
   "cell_type": "code",
   "execution_count": 312,
   "metadata": {},
   "outputs": [
    {
     "data": {
      "text/html": [
       "<div>\n",
       "<style scoped>\n",
       "    .dataframe tbody tr th:only-of-type {\n",
       "        vertical-align: middle;\n",
       "    }\n",
       "\n",
       "    .dataframe tbody tr th {\n",
       "        vertical-align: top;\n",
       "    }\n",
       "\n",
       "    .dataframe thead th {\n",
       "        text-align: right;\n",
       "    }\n",
       "</style>\n",
       "<table border=\"1\" class=\"dataframe\">\n",
       "  <thead>\n",
       "    <tr style=\"text-align: right;\">\n",
       "      <th></th>\n",
       "      <th>userId</th>\n",
       "      <th>title</th>\n",
       "      <th>est</th>\n",
       "    </tr>\n",
       "  </thead>\n",
       "  <tbody>\n",
       "    <tr>\n",
       "      <th>0</th>\n",
       "      <td>9</td>\n",
       "      <td>Frozen Planet (2011)</td>\n",
       "      <td>4.43</td>\n",
       "    </tr>\n",
       "    <tr>\n",
       "      <th>1</th>\n",
       "      <td>9</td>\n",
       "      <td>Dark Knight, The (2008)</td>\n",
       "      <td>4.34</td>\n",
       "    </tr>\n",
       "    <tr>\n",
       "      <th>2</th>\n",
       "      <td>9</td>\n",
       "      <td>Inception (2010)</td>\n",
       "      <td>4.29</td>\n",
       "    </tr>\n",
       "    <tr>\n",
       "      <th>3</th>\n",
       "      <td>9</td>\n",
       "      <td>Dark Knight Rises, The (2012)</td>\n",
       "      <td>4.28</td>\n",
       "    </tr>\n",
       "    <tr>\n",
       "      <th>4</th>\n",
       "      <td>9</td>\n",
       "      <td>Fight Club (1999)</td>\n",
       "      <td>4.26</td>\n",
       "    </tr>\n",
       "    <tr>\n",
       "      <th>5</th>\n",
       "      <td>9</td>\n",
       "      <td>Matrix, The (1999)</td>\n",
       "      <td>4.25</td>\n",
       "    </tr>\n",
       "    <tr>\n",
       "      <th>6</th>\n",
       "      <td>9</td>\n",
       "      <td>Snatch (2000)</td>\n",
       "      <td>4.24</td>\n",
       "    </tr>\n",
       "    <tr>\n",
       "      <th>7</th>\n",
       "      <td>9</td>\n",
       "      <td>Prime Suspect (1991)</td>\n",
       "      <td>4.24</td>\n",
       "    </tr>\n",
       "    <tr>\n",
       "      <th>8</th>\n",
       "      <td>9</td>\n",
       "      <td>Louis C.K.: Hilarious (2010)</td>\n",
       "      <td>4.22</td>\n",
       "    </tr>\n",
       "    <tr>\n",
       "      <th>9</th>\n",
       "      <td>9</td>\n",
       "      <td>Louis C.K.: Live at the Beacon Theater (2011)</td>\n",
       "      <td>4.18</td>\n",
       "    </tr>\n",
       "  </tbody>\n",
       "</table>\n",
       "</div>"
      ],
      "text/plain": [
       "   userId                                          title   est\n",
       "0       9                           Frozen Planet (2011)  4.43\n",
       "1       9                        Dark Knight, The (2008)  4.34\n",
       "2       9                               Inception (2010)  4.29\n",
       "3       9                  Dark Knight Rises, The (2012)  4.28\n",
       "4       9                              Fight Club (1999)  4.26\n",
       "5       9                             Matrix, The (1999)  4.25\n",
       "6       9                                  Snatch (2000)  4.24\n",
       "7       9                           Prime Suspect (1991)  4.24\n",
       "8       9                   Louis C.K.: Hilarious (2010)  4.22\n",
       "9       9  Louis C.K.: Live at the Beacon Theater (2011)  4.18"
      ]
     },
     "execution_count": 312,
     "metadata": {},
     "output_type": "execute_result"
    }
   ],
   "source": [
    "predicted_top_n(9, 'movieId', 10, None)"
   ]
  }
 ],
 "metadata": {
  "kernelspec": {
   "display_name": "Python 3",
   "language": "python",
   "name": "python3"
  },
  "language_info": {
   "codemirror_mode": {
    "name": "ipython",
    "version": 3
   },
   "file_extension": ".py",
   "mimetype": "text/x-python",
   "name": "python",
   "nbconvert_exporter": "python",
   "pygments_lexer": "ipython3",
   "version": "3.7.3"
  }
 },
 "nbformat": 4,
 "nbformat_minor": 2
}
