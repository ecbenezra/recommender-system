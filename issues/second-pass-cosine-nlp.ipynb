{
 "cells": [
  {
   "cell_type": "markdown",
   "metadata": {},
   "source": [
    "A second pass as NLP and cosine similarity by adding the year to the movie title and attempting to run pairwise kernel to get the cosine similarities without killing my kernel.\n"
   ]
  },
  {
   "cell_type": "code",
   "execution_count": 2,
   "metadata": {},
   "outputs": [],
   "source": [
    "import pandas as pd\n",
    "import numpy as np\n",
    "\n",
    "import nltk\n",
    "from rake_nltk import Rake\n",
    "from nltk.corpus import stopwords\n",
    "\n",
    "from sklearn.metrics.pairwise import cosine_similarity\n",
    "from sklearn.feature_extraction.text import CountVectorizer"
   ]
  },
  {
   "cell_type": "code",
   "execution_count": 17,
   "metadata": {},
   "outputs": [],
   "source": [
    "movies = pd.read_csv('movies-with-wr-and-title-year.csv')"
   ]
  },
  {
   "cell_type": "code",
   "execution_count": 18,
   "metadata": {},
   "outputs": [
    {
     "data": {
      "text/plain": [
       "(93957, 20)"
      ]
     },
     "execution_count": 18,
     "metadata": {},
     "output_type": "execute_result"
    }
   ],
   "source": [
    "movies.shape"
   ]
  },
  {
   "cell_type": "code",
   "execution_count": 4,
   "metadata": {},
   "outputs": [],
   "source": [
    "movies = movies[['title_year','rated','writer','genre','director','actors','plot','language','country', 'year']]\n",
    "\n",
    "for column in movies:\n",
    "    movies[column] = movies[column].apply(lambda x: str(x))\n",
    "    \n",
    "# discarding the commas between the actors' full names\n",
    "movies['actors'] = movies['actors'].map(lambda x: x.split(','))\n",
    "\n",
    "# putting the genres in a list of words\n",
    "movies['genre'] = movies['genre'].map(lambda x: x.lower().split(','))\n",
    "\n",
    "movies['director'] = movies['director'].map(lambda x: x.split(','))\n",
    "\n",
    "\n",
    "# merging together first and last name for each actor and director, so it's considered as one word \n",
    "# and there is no mix up between people sharing a first name\n",
    "for index, row in movies.iterrows():\n",
    "    row['actors'] = [x.lower().replace(' ','') for x in row['actors']]\n",
    "    row['director'] = [x.lower().replace(' ','') for x in row['director']]\n",
    "\n",
    "\n",
    "# Getting rid of information between () in writers\n",
    "movies['writer'] = movies['writer'].str.replace(r\"\\(.*\\)\",\"\")\n",
    "\n",
    "# discarding the commas between writer's names\n",
    "movies['writer'] = movies['writer'].map(lambda x: x.split(','))\n",
    "\n",
    "# putting the countries in a list of words\n",
    "movies['country'] = movies['country'].map(lambda x: x.lower().split(','))\n",
    "\n",
    "# putting the languages in a list of words\n",
    "movies['language'] = movies['language'].map(lambda x: x.lower().split(','))\n",
    "\n",
    "movies['rated'] = movies['rated'].str.replace(\"-\",\"\")\n",
    "\n",
    "movies['year'] = movies['year'].map(lambda x: x.split(','))\n",
    "\n",
    "# merging together first and last name for each actor and director, so it's considered as one word \n",
    "# and there is no mix up between people sharing a first name\n",
    "for index, row in movies.iterrows():\n",
    "    row['writer'] = [x.lower().replace(' ','') for x in row['writer']]\n"
   ]
  },
  {
   "cell_type": "code",
   "execution_count": 5,
   "metadata": {},
   "outputs": [],
   "source": [
    "# initializing the new column\n",
    "movies['Key_words'] = \"\"\n",
    "\n",
    "for index, row in movies.iterrows():\n",
    "    plot = row['plot']\n",
    "    \n",
    "    # instantiating Rake, by default is uses english stopwords from NLTK\n",
    "    # and discard all puntuation characters\n",
    "    r = Rake()\n",
    "\n",
    "    # extracting the words by passing the text\n",
    "    r.extract_keywords_from_text(plot)\n",
    "\n",
    "    # getting the dictionary whith key words and their scores\n",
    "    key_words_dict_scores = r.get_word_degrees()\n",
    "    \n",
    "    # assigning the key words to the new column\n",
    "    row['Key_words'] = list(key_words_dict_scores.keys())\n",
    "\n",
    "# dropping the Plot column\n",
    "movies.drop(columns = ['plot'], inplace = True)"
   ]
  },
  {
   "cell_type": "code",
   "execution_count": 6,
   "metadata": {},
   "outputs": [
    {
     "data": {
      "text/html": [
       "<div>\n",
       "<style scoped>\n",
       "    .dataframe tbody tr th:only-of-type {\n",
       "        vertical-align: middle;\n",
       "    }\n",
       "\n",
       "    .dataframe tbody tr th {\n",
       "        vertical-align: top;\n",
       "    }\n",
       "\n",
       "    .dataframe thead th {\n",
       "        text-align: right;\n",
       "    }\n",
       "</style>\n",
       "<table border=\"1\" class=\"dataframe\">\n",
       "  <thead>\n",
       "    <tr style=\"text-align: right;\">\n",
       "      <th></th>\n",
       "      <th>title_year</th>\n",
       "      <th>rated</th>\n",
       "      <th>writer</th>\n",
       "      <th>genre</th>\n",
       "      <th>director</th>\n",
       "      <th>actors</th>\n",
       "      <th>language</th>\n",
       "      <th>country</th>\n",
       "      <th>year</th>\n",
       "      <th>Key_words</th>\n",
       "    </tr>\n",
       "  </thead>\n",
       "  <tbody>\n",
       "    <tr>\n",
       "      <th>0</th>\n",
       "      <td>Toy Story 1995</td>\n",
       "      <td>G</td>\n",
       "      <td>[johnlasseter]</td>\n",
       "      <td>[animation,  adventure,  comedy,  family,  fan...</td>\n",
       "      <td>[johnlasseter]</td>\n",
       "      <td>[tomhanks, timallen, donrickles, jimvarney]</td>\n",
       "      <td>[english]</td>\n",
       "      <td>[usa]</td>\n",
       "      <td>[1995]</td>\n",
       "      <td>[profoundly, threatened, room, boy, new, space...</td>\n",
       "    </tr>\n",
       "    <tr>\n",
       "      <th>1</th>\n",
       "      <td>Jumanji 1995</td>\n",
       "      <td>PG</td>\n",
       "      <td>[jonathanhensleigh]</td>\n",
       "      <td>[adventure,  comedy,  family,  fantasy]</td>\n",
       "      <td>[joejohnston]</td>\n",
       "      <td>[robinwilliams, jonathanhyde, kirstendunst, br...</td>\n",
       "      <td>[english,  french]</td>\n",
       "      <td>[usa]</td>\n",
       "      <td>[1995]</td>\n",
       "      <td>[finishing, man, trapped, two, kids, find, sto...</td>\n",
       "    </tr>\n",
       "    <tr>\n",
       "      <th>2</th>\n",
       "      <td>Grumpier Old Men 1995</td>\n",
       "      <td>PG13</td>\n",
       "      <td>[markstevenjohnson, markstevenjohnson]</td>\n",
       "      <td>[comedy,  romance]</td>\n",
       "      <td>[howarddeutch]</td>\n",
       "      <td>[waltermatthau, jacklemmon, sophialoren, ann-m...</td>\n",
       "      <td>[english,  italian,  german]</td>\n",
       "      <td>[usa]</td>\n",
       "      <td>[1995]</td>\n",
       "      <td>[beloved, bait, shop, save, attention, john, m...</td>\n",
       "    </tr>\n",
       "    <tr>\n",
       "      <th>3</th>\n",
       "      <td>Waiting to Exhale 1995</td>\n",
       "      <td>R</td>\n",
       "      <td>[terrymcmillan]</td>\n",
       "      <td>[comedy,  drama,  romance]</td>\n",
       "      <td>[forestwhitaker]</td>\n",
       "      <td>[whitneyhouston, angelabassett, lorettadevine,...</td>\n",
       "      <td>[english]</td>\n",
       "      <td>[usa]</td>\n",
       "      <td>[1995]</td>\n",
       "      <td>[male, gender, terry, mcmillan, relationships,...</td>\n",
       "    </tr>\n",
       "    <tr>\n",
       "      <th>4</th>\n",
       "      <td>Father of the Bride Part II 1995</td>\n",
       "      <td>PG</td>\n",
       "      <td>[alberthackett]</td>\n",
       "      <td>[comedy,  family,  romance]</td>\n",
       "      <td>[charlesshyer]</td>\n",
       "      <td>[stevemartin, dianekeaton, martinshort, kimber...</td>\n",
       "      <td>[english]</td>\n",
       "      <td>[usa]</td>\n",
       "      <td>[1995]</td>\n",
       "      <td>[also, unexpected, pregnancy, george, banks, m...</td>\n",
       "    </tr>\n",
       "  </tbody>\n",
       "</table>\n",
       "</div>"
      ],
      "text/plain": [
       "                         title_year rated  \\\n",
       "0                    Toy Story 1995     G   \n",
       "1                      Jumanji 1995    PG   \n",
       "2             Grumpier Old Men 1995  PG13   \n",
       "3            Waiting to Exhale 1995     R   \n",
       "4  Father of the Bride Part II 1995    PG   \n",
       "\n",
       "                                   writer  \\\n",
       "0                          [johnlasseter]   \n",
       "1                     [jonathanhensleigh]   \n",
       "2  [markstevenjohnson, markstevenjohnson]   \n",
       "3                         [terrymcmillan]   \n",
       "4                         [alberthackett]   \n",
       "\n",
       "                                               genre          director  \\\n",
       "0  [animation,  adventure,  comedy,  family,  fan...    [johnlasseter]   \n",
       "1            [adventure,  comedy,  family,  fantasy]     [joejohnston]   \n",
       "2                                 [comedy,  romance]    [howarddeutch]   \n",
       "3                         [comedy,  drama,  romance]  [forestwhitaker]   \n",
       "4                        [comedy,  family,  romance]    [charlesshyer]   \n",
       "\n",
       "                                              actors  \\\n",
       "0        [tomhanks, timallen, donrickles, jimvarney]   \n",
       "1  [robinwilliams, jonathanhyde, kirstendunst, br...   \n",
       "2  [waltermatthau, jacklemmon, sophialoren, ann-m...   \n",
       "3  [whitneyhouston, angelabassett, lorettadevine,...   \n",
       "4  [stevemartin, dianekeaton, martinshort, kimber...   \n",
       "\n",
       "                       language country    year  \\\n",
       "0                     [english]   [usa]  [1995]   \n",
       "1            [english,  french]   [usa]  [1995]   \n",
       "2  [english,  italian,  german]   [usa]  [1995]   \n",
       "3                     [english]   [usa]  [1995]   \n",
       "4                     [english]   [usa]  [1995]   \n",
       "\n",
       "                                           Key_words  \n",
       "0  [profoundly, threatened, room, boy, new, space...  \n",
       "1  [finishing, man, trapped, two, kids, find, sto...  \n",
       "2  [beloved, bait, shop, save, attention, john, m...  \n",
       "3  [male, gender, terry, mcmillan, relationships,...  \n",
       "4  [also, unexpected, pregnancy, george, banks, m...  "
      ]
     },
     "execution_count": 6,
     "metadata": {},
     "output_type": "execute_result"
    }
   ],
   "source": [
    "movies.head()"
   ]
  },
  {
   "cell_type": "code",
   "execution_count": 7,
   "metadata": {},
   "outputs": [
    {
     "data": {
      "text/plain": [
       "(87967, 10)"
      ]
     },
     "execution_count": 7,
     "metadata": {},
     "output_type": "execute_result"
    }
   ],
   "source": [
    "# Drop duplicate movies based on their title and year\n",
    "movies = movies.drop_duplicates(subset='title_year', keep= 'first')\n",
    "movies.shape"
   ]
  },
  {
   "cell_type": "code",
   "execution_count": 8,
   "metadata": {},
   "outputs": [],
   "source": [
    "movies.set_index('title_year', inplace = True)"
   ]
  },
  {
   "cell_type": "code",
   "execution_count": 9,
   "metadata": {},
   "outputs": [],
   "source": [
    "movies['bag_of_words'] = ''\n",
    "columns = movies.columns\n",
    "for index, row in movies.iterrows():\n",
    "    words = ''\n",
    "    for col in columns:\n",
    "        if col == 'rated':\n",
    "            words = words.join(row[col]) + ' '\n",
    "        elif col == 'imdb_rating':\n",
    "            None\n",
    "        else:\n",
    "            words = words + ' '.join(row[col])+ ' '\n",
    "#        else:\n",
    "#            words = words + row[col]+ ' '\n",
    "    row['bag_of_words'] = words\n",
    "    \n",
    "movies.drop(columns = [col for col in movies.columns if col!= 'bag_of_words'], inplace = True)"
   ]
  },
  {
   "cell_type": "code",
   "execution_count": 10,
   "metadata": {},
   "outputs": [
    {
     "data": {
      "text/plain": [
       "0                      Toy Story 1995\n",
       "1                        Jumanji 1995\n",
       "2               Grumpier Old Men 1995\n",
       "3              Waiting to Exhale 1995\n",
       "4    Father of the Bride Part II 1995\n",
       "Name: title_year, dtype: object"
      ]
     },
     "execution_count": 10,
     "metadata": {},
     "output_type": "execute_result"
    }
   ],
   "source": [
    "# instantiating and generating the count matrix\n",
    "count = CountVectorizer()\n",
    "count_matrix = count.fit_transform(movies['bag_of_words'])\n",
    "\n",
    "# creating a Series for the movie titles so they are associated to an ordered numerical\n",
    "# list I will use later to match the indexes\n",
    "indices = pd.Series(movies.index)\n",
    "indices[:5]"
   ]
  },
  {
   "cell_type": "code",
   "execution_count": 11,
   "metadata": {
    "scrolled": true
   },
   "outputs": [
    {
     "data": {
      "text/plain": [
       "(87967, 1)"
      ]
     },
     "execution_count": 11,
     "metadata": {},
     "output_type": "execute_result"
    }
   ],
   "source": [
    "movies.shape"
   ]
  },
  {
   "cell_type": "code",
   "execution_count": 13,
   "metadata": {},
   "outputs": [],
   "source": [
    "from sklearn.metrics.pairwise import pairwise_kernels"
   ]
  },
  {
   "cell_type": "markdown",
   "metadata": {},
   "source": [
    "cosine_sim = pairwise_kernels(count_matrix, metric='cosine', n_jobs=3)"
   ]
  },
  {
   "cell_type": "code",
   "execution_count": null,
   "metadata": {},
   "outputs": [],
   "source": [
    "from sklearn.metrics.pairwise import linear_kernel\n",
    "cosine_sim = linear_kernel(count_matrix, count_matrix)"
   ]
  },
  {
   "cell_type": "code",
   "execution_count": null,
   "metadata": {},
   "outputs": [],
   "source": [
    "def cosine_similarity_n_space(m1, m2, batch_size=100):\n",
    "    assert m1.shape[1] == m2.shape[1]\n",
    "    ret = np.ndarray((m1.shape[0], m2.shape[0]))\n",
    "    for row_i in range(0, int(m1.shape[0] / batch_size) + 1):\n",
    "        start = row_i * batch_size\n",
    "        end = min([(row_i + 1) * batch_size, m1.shape[0]])\n",
    "        if end <= start:\n",
    "            break # cause I'm too lazy to elegantly handle edge cases\n",
    "        rows = m1[start: end]\n",
    "        sim = cosine_similarity(rows, m2) # rows is O(1) size\n",
    "        ret[start: end] = sim\n",
    "        cosine_sim = ret\n",
    "    return ret"
   ]
  },
  {
   "cell_type": "code",
   "execution_count": null,
   "metadata": {},
   "outputs": [],
   "source": [
    "cosine_similarity_n_space(count_matrix, count_matrix, batch_size=100)"
   ]
  },
  {
   "cell_type": "code",
   "execution_count": null,
   "metadata": {},
   "outputs": [],
   "source": [
    "# Change chunk_size to control resource consumption and speed\n",
    "# Higher chunk_size means more memory/RAM needed but also faster \n",
    "chunk_size = 500 \n",
    "matrix_len = count_matrix.shape[0] # Not sparse numpy.ndarray\n",
    "\n",
    "def similarity_cosine_by_chunk(start, end):\n",
    "    if end > matrix_len:\n",
    "        end = matrix_len\n",
    "    return cosine_similarity(X=count_matrix[start:end], Y=count_matrix) # scikit-learn function\n",
    "\n",
    "for chunk_start in range(0, matrix_len, chunk_size):\n",
    "    cosine_similarity_chunk = similarity_cosine_by_chunk(chunk_start, chunk_start+chunk_size)\n",
    "    # Handle cosine_similarity_chunk  ( Write it to file_timestamp and close the file )\n",
    "    # Do not open the same file again or you may end up with out of memory after few chunks "
   ]
  },
  {
   "cell_type": "code",
   "execution_count": null,
   "metadata": {},
   "outputs": [],
   "source": [
    "from sklearn.metrics.pairwise import linear_kernel\n",
    "cosine_sim = linear_kernel(tfidf_matrix, tfidf_matrix)"
   ]
  }
 ],
 "metadata": {
  "kernelspec": {
   "display_name": "Python 3",
   "language": "python",
   "name": "python3"
  },
  "language_info": {
   "codemirror_mode": {
    "name": "ipython",
    "version": 3
   },
   "file_extension": ".py",
   "mimetype": "text/x-python",
   "name": "python",
   "nbconvert_exporter": "python",
   "pygments_lexer": "ipython3",
   "version": "3.7.3"
  }
 },
 "nbformat": 4,
 "nbformat_minor": 2
}
