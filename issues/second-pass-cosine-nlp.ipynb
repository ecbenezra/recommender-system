{
 "cells": [
  {
   "cell_type": "markdown",
   "metadata": {},
   "source": [
    "A second pass as NLP and cosine similarity by adding the year to the movie title and attempting to run pairwise kernel to get the cosine similarities without killing my kernel.\n"
   ]
  },
  {
   "cell_type": "code",
   "execution_count": 2,
   "metadata": {},
   "outputs": [],
   "source": [
    "import pandas as pd\n",
    "import numpy as np\n",
    "\n",
    "import nltk\n",
    "from rake_nltk import Rake\n",
    "from nltk.corpus import stopwords\n",
    "\n",
    "from sklearn.metrics.pairwise import cosine_similarity\n",
    "from sklearn.feature_extraction.text import CountVectorizer"
   ]
  },
  {
   "cell_type": "code",
   "execution_count": 2,
   "metadata": {},
   "outputs": [
    {
     "name": "stderr",
     "output_type": "stream",
     "text": [
      "/Users/user/anaconda3/lib/python3.7/site-packages/IPython/core/interactiveshell.py:3049: DtypeWarning: Columns (1,24) have mixed types. Specify dtype option on import or set low_memory=False.\n",
      "  interactivity=interactivity, compiler=compiler, result=result)\n"
     ]
    },
    {
     "name": "stdout",
     "output_type": "stream",
     "text": [
      "(284303, 25)\n"
     ]
    },
    {
     "data": {
      "text/html": [
       "<div>\n",
       "<style scoped>\n",
       "    .dataframe tbody tr th:only-of-type {\n",
       "        vertical-align: middle;\n",
       "    }\n",
       "\n",
       "    .dataframe tbody tr th {\n",
       "        vertical-align: top;\n",
       "    }\n",
       "\n",
       "    .dataframe thead th {\n",
       "        text-align: right;\n",
       "    }\n",
       "</style>\n",
       "<table border=\"1\" class=\"dataframe\">\n",
       "  <thead>\n",
       "    <tr style=\"text-align: right;\">\n",
       "      <th></th>\n",
       "      <th>title</th>\n",
       "      <th>year</th>\n",
       "      <th>rated</th>\n",
       "      <th>released</th>\n",
       "      <th>runtime</th>\n",
       "      <th>genre</th>\n",
       "      <th>director</th>\n",
       "      <th>writer</th>\n",
       "      <th>actors</th>\n",
       "      <th>plot</th>\n",
       "      <th>...</th>\n",
       "      <th>metascore</th>\n",
       "      <th>imdb_rating</th>\n",
       "      <th>imdb_votes</th>\n",
       "      <th>imdb_id</th>\n",
       "      <th>type</th>\n",
       "      <th>dvd</th>\n",
       "      <th>box_office</th>\n",
       "      <th>production</th>\n",
       "      <th>website</th>\n",
       "      <th>response</th>\n",
       "    </tr>\n",
       "  </thead>\n",
       "  <tbody>\n",
       "    <tr>\n",
       "      <th>0</th>\n",
       "      <td>Toy Story</td>\n",
       "      <td>1995</td>\n",
       "      <td>G</td>\n",
       "      <td>22-Nov-95</td>\n",
       "      <td>81 min</td>\n",
       "      <td>Animation, Adventure, Comedy, Family, Fantasy</td>\n",
       "      <td>John Lasseter</td>\n",
       "      <td>John Lasseter (original story by), Pete Docter...</td>\n",
       "      <td>Tom Hanks, Tim Allen, Don Rickles, Jim Varney</td>\n",
       "      <td>A cowboy doll is profoundly threatened and jea...</td>\n",
       "      <td>...</td>\n",
       "      <td>95.0</td>\n",
       "      <td>8.3</td>\n",
       "      <td>788,709</td>\n",
       "      <td>tt0114709</td>\n",
       "      <td>movie</td>\n",
       "      <td>20-Mar-01</td>\n",
       "      <td>NaN</td>\n",
       "      <td>Buena Vista</td>\n",
       "      <td>http://www.disney.com/ToyStory</td>\n",
       "      <td>True</td>\n",
       "    </tr>\n",
       "    <tr>\n",
       "      <th>1</th>\n",
       "      <td>Jumanji</td>\n",
       "      <td>1995</td>\n",
       "      <td>PG</td>\n",
       "      <td>15-Dec-95</td>\n",
       "      <td>104 min</td>\n",
       "      <td>Adventure, Comedy, Family, Fantasy</td>\n",
       "      <td>Joe Johnston</td>\n",
       "      <td>Jonathan Hensleigh (screenplay by), Greg Taylo...</td>\n",
       "      <td>Robin Williams, Jonathan Hyde, Kirsten Dunst, ...</td>\n",
       "      <td>When two kids find and play a magical board ga...</td>\n",
       "      <td>...</td>\n",
       "      <td>39.0</td>\n",
       "      <td>7.0</td>\n",
       "      <td>267,973</td>\n",
       "      <td>tt0113497</td>\n",
       "      <td>movie</td>\n",
       "      <td>25-Jan-00</td>\n",
       "      <td>NaN</td>\n",
       "      <td>Sony Pictures Home Entertainment</td>\n",
       "      <td>NaN</td>\n",
       "      <td>True</td>\n",
       "    </tr>\n",
       "    <tr>\n",
       "      <th>2</th>\n",
       "      <td>Grumpier Old Men</td>\n",
       "      <td>1995</td>\n",
       "      <td>PG-13</td>\n",
       "      <td>22-Dec-95</td>\n",
       "      <td>101 min</td>\n",
       "      <td>Comedy, Romance</td>\n",
       "      <td>Howard Deutch</td>\n",
       "      <td>Mark Steven Johnson (characters), Mark Steven ...</td>\n",
       "      <td>Walter Matthau, Jack Lemmon, Sophia Loren, Ann...</td>\n",
       "      <td>John and Max resolve to save their beloved bai...</td>\n",
       "      <td>...</td>\n",
       "      <td>46.0</td>\n",
       "      <td>6.6</td>\n",
       "      <td>22,329</td>\n",
       "      <td>tt0113228</td>\n",
       "      <td>movie</td>\n",
       "      <td>18-Nov-97</td>\n",
       "      <td>NaN</td>\n",
       "      <td>Warner Home Video</td>\n",
       "      <td>NaN</td>\n",
       "      <td>True</td>\n",
       "    </tr>\n",
       "    <tr>\n",
       "      <th>3</th>\n",
       "      <td>Waiting to Exhale</td>\n",
       "      <td>1995</td>\n",
       "      <td>R</td>\n",
       "      <td>22-Dec-95</td>\n",
       "      <td>124 min</td>\n",
       "      <td>Comedy, Drama, Romance</td>\n",
       "      <td>Forest Whitaker</td>\n",
       "      <td>Terry McMillan (novel), Terry McMillan (screen...</td>\n",
       "      <td>Whitney Houston, Angela Bassett, Loretta Devin...</td>\n",
       "      <td>Based on Terry McMillan's novel, this film fol...</td>\n",
       "      <td>...</td>\n",
       "      <td>NaN</td>\n",
       "      <td>5.8</td>\n",
       "      <td>8,640</td>\n",
       "      <td>tt0114885</td>\n",
       "      <td>movie</td>\n",
       "      <td>6-Mar-01</td>\n",
       "      <td>NaN</td>\n",
       "      <td>Twentieth Century Fox Home Entertainment</td>\n",
       "      <td>NaN</td>\n",
       "      <td>True</td>\n",
       "    </tr>\n",
       "    <tr>\n",
       "      <th>4</th>\n",
       "      <td>Father of the Bride Part II</td>\n",
       "      <td>1995</td>\n",
       "      <td>PG</td>\n",
       "      <td>8-Dec-95</td>\n",
       "      <td>106 min</td>\n",
       "      <td>Comedy, Family, Romance</td>\n",
       "      <td>Charles Shyer</td>\n",
       "      <td>Albert Hackett (screenplay \"Father's Little Di...</td>\n",
       "      <td>Steve Martin, Diane Keaton, Martin Short, Kimb...</td>\n",
       "      <td>George Banks must deal not only with the pregn...</td>\n",
       "      <td>...</td>\n",
       "      <td>49.0</td>\n",
       "      <td>6.0</td>\n",
       "      <td>31,241</td>\n",
       "      <td>tt0113041</td>\n",
       "      <td>movie</td>\n",
       "      <td>9-May-00</td>\n",
       "      <td>NaN</td>\n",
       "      <td>Disney</td>\n",
       "      <td>NaN</td>\n",
       "      <td>True</td>\n",
       "    </tr>\n",
       "  </tbody>\n",
       "</table>\n",
       "<p>5 rows × 25 columns</p>\n",
       "</div>"
      ],
      "text/plain": [
       "                         title  year  rated   released  runtime  \\\n",
       "0                    Toy Story  1995      G  22-Nov-95   81 min   \n",
       "1                      Jumanji  1995     PG  15-Dec-95  104 min   \n",
       "2             Grumpier Old Men  1995  PG-13  22-Dec-95  101 min   \n",
       "3            Waiting to Exhale  1995      R  22-Dec-95  124 min   \n",
       "4  Father of the Bride Part II  1995     PG   8-Dec-95  106 min   \n",
       "\n",
       "                                           genre         director  \\\n",
       "0  Animation, Adventure, Comedy, Family, Fantasy    John Lasseter   \n",
       "1             Adventure, Comedy, Family, Fantasy     Joe Johnston   \n",
       "2                                Comedy, Romance    Howard Deutch   \n",
       "3                         Comedy, Drama, Romance  Forest Whitaker   \n",
       "4                        Comedy, Family, Romance    Charles Shyer   \n",
       "\n",
       "                                              writer  \\\n",
       "0  John Lasseter (original story by), Pete Docter...   \n",
       "1  Jonathan Hensleigh (screenplay by), Greg Taylo...   \n",
       "2  Mark Steven Johnson (characters), Mark Steven ...   \n",
       "3  Terry McMillan (novel), Terry McMillan (screen...   \n",
       "4  Albert Hackett (screenplay \"Father's Little Di...   \n",
       "\n",
       "                                              actors  \\\n",
       "0      Tom Hanks, Tim Allen, Don Rickles, Jim Varney   \n",
       "1  Robin Williams, Jonathan Hyde, Kirsten Dunst, ...   \n",
       "2  Walter Matthau, Jack Lemmon, Sophia Loren, Ann...   \n",
       "3  Whitney Houston, Angela Bassett, Loretta Devin...   \n",
       "4  Steve Martin, Diane Keaton, Martin Short, Kimb...   \n",
       "\n",
       "                                                plot  ... metascore  \\\n",
       "0  A cowboy doll is profoundly threatened and jea...  ...      95.0   \n",
       "1  When two kids find and play a magical board ga...  ...      39.0   \n",
       "2  John and Max resolve to save their beloved bai...  ...      46.0   \n",
       "3  Based on Terry McMillan's novel, this film fol...  ...       NaN   \n",
       "4  George Banks must deal not only with the pregn...  ...      49.0   \n",
       "\n",
       "  imdb_rating imdb_votes    imdb_id   type        dvd  box_office  \\\n",
       "0         8.3    788,709  tt0114709  movie  20-Mar-01         NaN   \n",
       "1         7.0    267,973  tt0113497  movie  25-Jan-00         NaN   \n",
       "2         6.6     22,329  tt0113228  movie  18-Nov-97         NaN   \n",
       "3         5.8      8,640  tt0114885  movie   6-Mar-01         NaN   \n",
       "4         6.0     31,241  tt0113041  movie   9-May-00         NaN   \n",
       "\n",
       "                                 production                         website  \\\n",
       "0                               Buena Vista  http://www.disney.com/ToyStory   \n",
       "1          Sony Pictures Home Entertainment                             NaN   \n",
       "2                         Warner Home Video                             NaN   \n",
       "3  Twentieth Century Fox Home Entertainment                             NaN   \n",
       "4                                    Disney                             NaN   \n",
       "\n",
       "  response  \n",
       "0     True  \n",
       "1     True  \n",
       "2     True  \n",
       "3     True  \n",
       "4     True  \n",
       "\n",
       "[5 rows x 25 columns]"
      ]
     },
     "execution_count": 2,
     "metadata": {},
     "output_type": "execute_result"
    }
   ],
   "source": [
    "movies = pd.read_csv('/Users/user/final-capstone/inprogress3.csv')\n",
    "print(movies.shape)\n",
    "movies.head()"
   ]
  },
  {
   "cell_type": "code",
   "execution_count": 3,
   "metadata": {},
   "outputs": [
    {
     "name": "stdout",
     "output_type": "stream",
     "text": [
      "(93957, 18)\n"
     ]
    }
   ],
   "source": [
    "movies = movies.drop(['website','response','type','ratings','metascore','dvd','box_office'],axis=1)\n",
    "\n",
    "# Drop duplicate movies from the dataframe\n",
    "#movies = movies.drop_duplicates(subset='plot', keep= 'first')\n",
    "\n",
    "# Drop TV shows from the dataframe\n",
    "ratings = ['TV-14', 'TV-PG', 'TV-MA', 'TV-G', 'TV-Y', 'TV-13', 'TV-Y7']\n",
    "\n",
    "for rating in ratings:\n",
    "    movies = movies[movies.rated != rating]\n",
    "    \n",
    "    \n",
    "# Drop a few other misc TV shows that snuck through\n",
    "titles = ['The Mahabharata', 'Centennial', 'Dominion Tank Police', 'Children of Dune', 'Helen of Troy']\n",
    "\n",
    "for title in titles:\n",
    "    movies = movies[movies['title'] != title]\n",
    "\n",
    "movies['year'] = movies['year'].str.strip('–')\n",
    "movies['year'] = pd.to_numeric(movies['year'])\n",
    "    \n",
    "# Due to computational power on my machine, only looking at movies later than 1985\n",
    "movies = movies[movies['year'] >= 1987]\n",
    "\n",
    "# Dropping movies that have fewer than 100 ratings on imdb only so that we can have computational power\n",
    "\n",
    "movies['imdb_votes'] = movies['imdb_votes'].str.replace(\",\",\"\")\n",
    "movies['imdb_votes'] = pd.to_numeric(movies['imdb_votes'])\n",
    "movies = movies[movies['imdb_votes'] > 10]\n",
    "print(movies.shape)"
   ]
  },
  {
   "cell_type": "code",
   "execution_count": null,
   "metadata": {},
   "outputs": [],
   "source": [
    "movies[\"title_year\"] = movies[\"title\"].map(str) + ' ' + movies[\"year\"]"
   ]
  },
  {
   "cell_type": "code",
   "execution_count": 5,
   "metadata": {},
   "outputs": [],
   "source": [
    "vote_counts = movies[movies['imdb_votes'].notnull()]['imdb_votes'].astype('int')\n",
    "vote_averages = movies[movies['imdb_rating'].notnull()]['imdb_rating'].astype('int')\n",
    "C = vote_averages.mean()\n",
    "\n",
    "m = vote_counts.quantile(0.75)\n",
    "\n",
    "def weighted_rating(x):\n",
    "    v = x['imdb_votes']+1 # added +1 - Dan\n",
    "    R = x['imdb_rating']\n",
    "    return (v/(v+m) * R) + (m/(m+v) * C)\n",
    "\n",
    "movies['weighted_rating'] = movies.apply(weighted_rating, axis=1)"
   ]
  },
  {
   "cell_type": "code",
   "execution_count": 8,
   "metadata": {},
   "outputs": [],
   "source": [
    "movies.to_csv('movies-with-wr-and-title-year.csv', index = False)\n"
   ]
  },
  {
   "cell_type": "code",
   "execution_count": 17,
   "metadata": {},
   "outputs": [],
   "source": [
    "movies = pd.read_csv('movies-with-wr-and-title-year.csv')"
   ]
  },
  {
   "cell_type": "code",
   "execution_count": 18,
   "metadata": {},
   "outputs": [
    {
     "data": {
      "text/plain": [
       "(93957, 20)"
      ]
     },
     "execution_count": 18,
     "metadata": {},
     "output_type": "execute_result"
    }
   ],
   "source": [
    "movies.shape"
   ]
  },
  {
   "cell_type": "code",
   "execution_count": 4,
   "metadata": {},
   "outputs": [],
   "source": [
    "movies = movies[['title_year','rated','writer','genre','director','actors','plot','language','country', 'year']]\n",
    "\n",
    "for column in movies:\n",
    "    movies[column] = movies[column].apply(lambda x: str(x))\n",
    "    \n",
    "# discarding the commas between the actors' full names\n",
    "movies['actors'] = movies['actors'].map(lambda x: x.split(','))\n",
    "\n",
    "# putting the genres in a list of words\n",
    "movies['genre'] = movies['genre'].map(lambda x: x.lower().split(','))\n",
    "\n",
    "movies['director'] = movies['director'].map(lambda x: x.split(','))\n",
    "\n",
    "\n",
    "# merging together first and last name for each actor and director, so it's considered as one word \n",
    "# and there is no mix up between people sharing a first name\n",
    "for index, row in movies.iterrows():\n",
    "    row['actors'] = [x.lower().replace(' ','') for x in row['actors']]\n",
    "    row['director'] = [x.lower().replace(' ','') for x in row['director']]\n",
    "\n",
    "\n",
    "# Getting rid of information between () in writers\n",
    "movies['writer'] = movies['writer'].str.replace(r\"\\(.*\\)\",\"\")\n",
    "\n",
    "# discarding the commas between writer's names\n",
    "movies['writer'] = movies['writer'].map(lambda x: x.split(','))\n",
    "\n",
    "# putting the countries in a list of words\n",
    "movies['country'] = movies['country'].map(lambda x: x.lower().split(','))\n",
    "\n",
    "# putting the languages in a list of words\n",
    "movies['language'] = movies['language'].map(lambda x: x.lower().split(','))\n",
    "\n",
    "movies['rated'] = movies['rated'].str.replace(\"-\",\"\")\n",
    "\n",
    "movies['year'] = movies['year'].map(lambda x: x.split(','))\n",
    "\n",
    "# merging together first and last name for each actor and director, so it's considered as one word \n",
    "# and there is no mix up between people sharing a first name\n",
    "for index, row in movies.iterrows():\n",
    "    row['writer'] = [x.lower().replace(' ','') for x in row['writer']]\n"
   ]
  },
  {
   "cell_type": "code",
   "execution_count": 5,
   "metadata": {},
   "outputs": [],
   "source": [
    "# initializing the new column\n",
    "movies['Key_words'] = \"\"\n",
    "\n",
    "for index, row in movies.iterrows():\n",
    "    plot = row['plot']\n",
    "    \n",
    "    # instantiating Rake, by default is uses english stopwords from NLTK\n",
    "    # and discard all puntuation characters\n",
    "    r = Rake()\n",
    "\n",
    "    # extracting the words by passing the text\n",
    "    r.extract_keywords_from_text(plot)\n",
    "\n",
    "    # getting the dictionary whith key words and their scores\n",
    "    key_words_dict_scores = r.get_word_degrees()\n",
    "    \n",
    "    # assigning the key words to the new column\n",
    "    row['Key_words'] = list(key_words_dict_scores.keys())\n",
    "\n",
    "# dropping the Plot column\n",
    "movies.drop(columns = ['plot'], inplace = True)"
   ]
  },
  {
   "cell_type": "code",
   "execution_count": 6,
   "metadata": {},
   "outputs": [
    {
     "data": {
      "text/html": [
       "<div>\n",
       "<style scoped>\n",
       "    .dataframe tbody tr th:only-of-type {\n",
       "        vertical-align: middle;\n",
       "    }\n",
       "\n",
       "    .dataframe tbody tr th {\n",
       "        vertical-align: top;\n",
       "    }\n",
       "\n",
       "    .dataframe thead th {\n",
       "        text-align: right;\n",
       "    }\n",
       "</style>\n",
       "<table border=\"1\" class=\"dataframe\">\n",
       "  <thead>\n",
       "    <tr style=\"text-align: right;\">\n",
       "      <th></th>\n",
       "      <th>title_year</th>\n",
       "      <th>rated</th>\n",
       "      <th>writer</th>\n",
       "      <th>genre</th>\n",
       "      <th>director</th>\n",
       "      <th>actors</th>\n",
       "      <th>language</th>\n",
       "      <th>country</th>\n",
       "      <th>year</th>\n",
       "      <th>Key_words</th>\n",
       "    </tr>\n",
       "  </thead>\n",
       "  <tbody>\n",
       "    <tr>\n",
       "      <th>0</th>\n",
       "      <td>Toy Story 1995</td>\n",
       "      <td>G</td>\n",
       "      <td>[johnlasseter]</td>\n",
       "      <td>[animation,  adventure,  comedy,  family,  fan...</td>\n",
       "      <td>[johnlasseter]</td>\n",
       "      <td>[tomhanks, timallen, donrickles, jimvarney]</td>\n",
       "      <td>[english]</td>\n",
       "      <td>[usa]</td>\n",
       "      <td>[1995]</td>\n",
       "      <td>[profoundly, threatened, room, boy, new, space...</td>\n",
       "    </tr>\n",
       "    <tr>\n",
       "      <th>1</th>\n",
       "      <td>Jumanji 1995</td>\n",
       "      <td>PG</td>\n",
       "      <td>[jonathanhensleigh]</td>\n",
       "      <td>[adventure,  comedy,  family,  fantasy]</td>\n",
       "      <td>[joejohnston]</td>\n",
       "      <td>[robinwilliams, jonathanhyde, kirstendunst, br...</td>\n",
       "      <td>[english,  french]</td>\n",
       "      <td>[usa]</td>\n",
       "      <td>[1995]</td>\n",
       "      <td>[finishing, man, trapped, two, kids, find, sto...</td>\n",
       "    </tr>\n",
       "    <tr>\n",
       "      <th>2</th>\n",
       "      <td>Grumpier Old Men 1995</td>\n",
       "      <td>PG13</td>\n",
       "      <td>[markstevenjohnson, markstevenjohnson]</td>\n",
       "      <td>[comedy,  romance]</td>\n",
       "      <td>[howarddeutch]</td>\n",
       "      <td>[waltermatthau, jacklemmon, sophialoren, ann-m...</td>\n",
       "      <td>[english,  italian,  german]</td>\n",
       "      <td>[usa]</td>\n",
       "      <td>[1995]</td>\n",
       "      <td>[beloved, bait, shop, save, attention, john, m...</td>\n",
       "    </tr>\n",
       "    <tr>\n",
       "      <th>3</th>\n",
       "      <td>Waiting to Exhale 1995</td>\n",
       "      <td>R</td>\n",
       "      <td>[terrymcmillan]</td>\n",
       "      <td>[comedy,  drama,  romance]</td>\n",
       "      <td>[forestwhitaker]</td>\n",
       "      <td>[whitneyhouston, angelabassett, lorettadevine,...</td>\n",
       "      <td>[english]</td>\n",
       "      <td>[usa]</td>\n",
       "      <td>[1995]</td>\n",
       "      <td>[male, gender, terry, mcmillan, relationships,...</td>\n",
       "    </tr>\n",
       "    <tr>\n",
       "      <th>4</th>\n",
       "      <td>Father of the Bride Part II 1995</td>\n",
       "      <td>PG</td>\n",
       "      <td>[alberthackett]</td>\n",
       "      <td>[comedy,  family,  romance]</td>\n",
       "      <td>[charlesshyer]</td>\n",
       "      <td>[stevemartin, dianekeaton, martinshort, kimber...</td>\n",
       "      <td>[english]</td>\n",
       "      <td>[usa]</td>\n",
       "      <td>[1995]</td>\n",
       "      <td>[also, unexpected, pregnancy, george, banks, m...</td>\n",
       "    </tr>\n",
       "  </tbody>\n",
       "</table>\n",
       "</div>"
      ],
      "text/plain": [
       "                         title_year rated  \\\n",
       "0                    Toy Story 1995     G   \n",
       "1                      Jumanji 1995    PG   \n",
       "2             Grumpier Old Men 1995  PG13   \n",
       "3            Waiting to Exhale 1995     R   \n",
       "4  Father of the Bride Part II 1995    PG   \n",
       "\n",
       "                                   writer  \\\n",
       "0                          [johnlasseter]   \n",
       "1                     [jonathanhensleigh]   \n",
       "2  [markstevenjohnson, markstevenjohnson]   \n",
       "3                         [terrymcmillan]   \n",
       "4                         [alberthackett]   \n",
       "\n",
       "                                               genre          director  \\\n",
       "0  [animation,  adventure,  comedy,  family,  fan...    [johnlasseter]   \n",
       "1            [adventure,  comedy,  family,  fantasy]     [joejohnston]   \n",
       "2                                 [comedy,  romance]    [howarddeutch]   \n",
       "3                         [comedy,  drama,  romance]  [forestwhitaker]   \n",
       "4                        [comedy,  family,  romance]    [charlesshyer]   \n",
       "\n",
       "                                              actors  \\\n",
       "0        [tomhanks, timallen, donrickles, jimvarney]   \n",
       "1  [robinwilliams, jonathanhyde, kirstendunst, br...   \n",
       "2  [waltermatthau, jacklemmon, sophialoren, ann-m...   \n",
       "3  [whitneyhouston, angelabassett, lorettadevine,...   \n",
       "4  [stevemartin, dianekeaton, martinshort, kimber...   \n",
       "\n",
       "                       language country    year  \\\n",
       "0                     [english]   [usa]  [1995]   \n",
       "1            [english,  french]   [usa]  [1995]   \n",
       "2  [english,  italian,  german]   [usa]  [1995]   \n",
       "3                     [english]   [usa]  [1995]   \n",
       "4                     [english]   [usa]  [1995]   \n",
       "\n",
       "                                           Key_words  \n",
       "0  [profoundly, threatened, room, boy, new, space...  \n",
       "1  [finishing, man, trapped, two, kids, find, sto...  \n",
       "2  [beloved, bait, shop, save, attention, john, m...  \n",
       "3  [male, gender, terry, mcmillan, relationships,...  \n",
       "4  [also, unexpected, pregnancy, george, banks, m...  "
      ]
     },
     "execution_count": 6,
     "metadata": {},
     "output_type": "execute_result"
    }
   ],
   "source": [
    "movies.head()"
   ]
  },
  {
   "cell_type": "code",
   "execution_count": 7,
   "metadata": {},
   "outputs": [
    {
     "data": {
      "text/plain": [
       "(87967, 10)"
      ]
     },
     "execution_count": 7,
     "metadata": {},
     "output_type": "execute_result"
    }
   ],
   "source": [
    "# Drop duplicate movies based on their title and year\n",
    "movies = movies.drop_duplicates(subset='title_year', keep= 'first')\n",
    "movies.shape"
   ]
  },
  {
   "cell_type": "code",
   "execution_count": 8,
   "metadata": {},
   "outputs": [],
   "source": [
    "movies.set_index('title_year', inplace = True)"
   ]
  },
  {
   "cell_type": "code",
   "execution_count": 9,
   "metadata": {},
   "outputs": [],
   "source": [
    "movies['bag_of_words'] = ''\n",
    "columns = movies.columns\n",
    "for index, row in movies.iterrows():\n",
    "    words = ''\n",
    "    for col in columns:\n",
    "        if col == 'rated':\n",
    "            words = words.join(row[col]) + ' '\n",
    "        elif col == 'imdb_rating':\n",
    "            None\n",
    "        else:\n",
    "            words = words + ' '.join(row[col])+ ' '\n",
    "#        else:\n",
    "#            words = words + row[col]+ ' '\n",
    "    row['bag_of_words'] = words\n",
    "    \n",
    "movies.drop(columns = [col for col in movies.columns if col!= 'bag_of_words'], inplace = True)"
   ]
  },
  {
   "cell_type": "code",
   "execution_count": 10,
   "metadata": {},
   "outputs": [
    {
     "data": {
      "text/plain": [
       "0                      Toy Story 1995\n",
       "1                        Jumanji 1995\n",
       "2               Grumpier Old Men 1995\n",
       "3              Waiting to Exhale 1995\n",
       "4    Father of the Bride Part II 1995\n",
       "Name: title_year, dtype: object"
      ]
     },
     "execution_count": 10,
     "metadata": {},
     "output_type": "execute_result"
    }
   ],
   "source": [
    "# instantiating and generating the count matrix\n",
    "count = CountVectorizer()\n",
    "count_matrix = count.fit_transform(movies['bag_of_words'])\n",
    "\n",
    "# creating a Series for the movie titles so they are associated to an ordered numerical\n",
    "# list I will use later to match the indexes\n",
    "indices = pd.Series(movies.index)\n",
    "indices[:5]"
   ]
  },
  {
   "cell_type": "code",
   "execution_count": 11,
   "metadata": {
    "scrolled": true
   },
   "outputs": [
    {
     "data": {
      "text/plain": [
       "(87967, 1)"
      ]
     },
     "execution_count": 11,
     "metadata": {},
     "output_type": "execute_result"
    }
   ],
   "source": [
    "movies.shape"
   ]
  },
  {
   "cell_type": "code",
   "execution_count": 13,
   "metadata": {},
   "outputs": [],
   "source": [
    "from sklearn.metrics.pairwise import pairwise_kernels"
   ]
  },
  {
   "cell_type": "markdown",
   "metadata": {},
   "source": [
    "cosine_sim = pairwise_kernels(count_matrix, metric='cosine', n_jobs=3)"
   ]
  },
  {
   "cell_type": "code",
   "execution_count": null,
   "metadata": {},
   "outputs": [],
   "source": [
    "from sklearn.metrics.pairwise import linear_kernel\n",
    "cosine_sim = linear_kernel(count_matrix, count_matrix)"
   ]
  },
  {
   "cell_type": "code",
   "execution_count": null,
   "metadata": {},
   "outputs": [],
   "source": [
    "def cosine_similarity_n_space(m1, m2, batch_size=100):\n",
    "    assert m1.shape[1] == m2.shape[1]\n",
    "    ret = np.ndarray((m1.shape[0], m2.shape[0]))\n",
    "    for row_i in range(0, int(m1.shape[0] / batch_size) + 1):\n",
    "        start = row_i * batch_size\n",
    "        end = min([(row_i + 1) * batch_size, m1.shape[0]])\n",
    "        if end <= start:\n",
    "            break # cause I'm too lazy to elegantly handle edge cases\n",
    "        rows = m1[start: end]\n",
    "        sim = cosine_similarity(rows, m2) # rows is O(1) size\n",
    "        ret[start: end] = sim\n",
    "        cosine_sim = ret\n",
    "    return ret"
   ]
  },
  {
   "cell_type": "code",
   "execution_count": null,
   "metadata": {},
   "outputs": [],
   "source": [
    "cosine_similarity_n_space(count_matrix, count_matrix, batch_size=100)"
   ]
  },
  {
   "cell_type": "code",
   "execution_count": null,
   "metadata": {},
   "outputs": [],
   "source": [
    "# Change chunk_size to control resource consumption and speed\n",
    "# Higher chunk_size means more memory/RAM needed but also faster \n",
    "chunk_size = 500 \n",
    "matrix_len = count_matrix.shape[0] # Not sparse numpy.ndarray\n",
    "\n",
    "def similarity_cosine_by_chunk(start, end):\n",
    "    if end > matrix_len:\n",
    "        end = matrix_len\n",
    "    return cosine_similarity(X=count_matrix[start:end], Y=count_matrix) # scikit-learn function\n",
    "\n",
    "for chunk_start in range(0, matrix_len, chunk_size):\n",
    "    cosine_similarity_chunk = similarity_cosine_by_chunk(chunk_start, chunk_start+chunk_size)\n",
    "    # Handle cosine_similarity_chunk  ( Write it to file_timestamp and close the file )\n",
    "    # Do not open the same file again or you may end up with out of memory after few chunks "
   ]
  },
  {
   "cell_type": "code",
   "execution_count": null,
   "metadata": {},
   "outputs": [],
   "source": [
    "from sklearn.metrics.pairwise import linear_kernel\n",
    "cosine_sim = linear_kernel(tfidf_matrix, tfidf_matrix)"
   ]
  }
 ],
 "metadata": {
  "kernelspec": {
   "display_name": "Python 3",
   "language": "python",
   "name": "python3"
  },
  "language_info": {
   "codemirror_mode": {
    "name": "ipython",
    "version": 3
   },
   "file_extension": ".py",
   "mimetype": "text/x-python",
   "name": "python",
   "nbconvert_exporter": "python",
   "pygments_lexer": "ipython3",
   "version": "3.7.3"
  }
 },
 "nbformat": 4,
 "nbformat_minor": 2
}
